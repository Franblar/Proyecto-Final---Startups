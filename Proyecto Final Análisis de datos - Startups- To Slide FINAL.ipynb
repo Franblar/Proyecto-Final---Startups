{
 "cells": [
  {
   "cell_type": "markdown",
   "id": "64ab5a6d",
   "metadata": {
    "slideshow": {
     "slide_type": "slide"
    }
   },
   "source": [
    "# **Estudio de Startups en el mundo según su valuación de mercado**\n",
    "\n",
    "#### por Franco Luis Blardone\n",
    "\n",
    "-------------------------\n",
    "\n",
    "Este repositorio contiene un análisis de datos de distintas Startups del mundo, centrando su análisis en país de origen, valuación e industria a la cual pertenecen. Los datos obtenidos corresponden al año 2021.\n",
    "\n",
    "Nos centraremos en aquellas startups denominadas **\"Unicornios\"** que son aquellas que alcanzan una valuación de 1 Billón de USD sin ser listadas en los mercados de acciones.\n"
   ]
  },
  {
   "cell_type": "markdown",
   "id": "b58de090",
   "metadata": {
    "slideshow": {
     "slide_type": "slide"
    }
   },
   "source": [
    "## Objetivos\n",
    "\n",
    "El objetivo es estudiar las relaciones entre el surgimiento de estas compañías y responder los siguientes interrogantes:\n",
    "- Qué industria tiene mayor cantidad de startups\n",
    "- Qué país concentra la mayor cantidad de startups\n",
    "- Qué valuación total significan estas startups\n",
    "- Cantidad de estas compañías que tiene el potencial de sobrevivir en el mercado."
   ]
  },
  {
   "cell_type": "markdown",
   "id": "2245c4af",
   "metadata": {
    "slideshow": {
     "slide_type": "slide"
    }
   },
   "source": [
    "## Tabla de contenidos\n",
    " \n",
    "[1. Carga de datos](#1._Carga_de_datos) \n",
    "\n",
    "[2. Exploración](#2._Exploración)\n",
    "\n",
    "[3. Limpieza de datos](#3._Limpieza_de_datos)\n",
    "\n",
    "[4. Presentación de los datos](#4._Presentación_de_los_datos)\n",
    "\n",
    "[5. Conclusiones](#5._Conclusiones)\n",
    "\n",
    "[6. Referencias](#6._Referencias)\n"
   ]
  },
  {
   "cell_type": "markdown",
   "id": "e50b8403",
   "metadata": {
    "slideshow": {
     "slide_type": "slide"
    }
   },
   "source": [
    "<a id='1._Carga_de_datos'></a>\n",
    "## 1. Carga de datos\n",
    "\n",
    "\n",
    "Este Dataset fue descargado en formato .csv de la web pública Kaggle.\n",
    "\n",
    "Link to Dataset: https://www.kaggle.com/khaiid/startups-by-valuation"
   ]
  },
  {
   "cell_type": "code",
   "execution_count": 89,
   "id": "b8f17376",
   "metadata": {
    "slideshow": {
     "slide_type": "subslide"
    }
   },
   "outputs": [],
   "source": [
    "#importamos librerias\n",
    "\n",
    "import pandas as pd\n",
    "\n",
    "import numpy as np \n",
    "\n",
    "import seaborn as sns\n",
    "\n",
    "import matplotlib.pyplot as plt\n",
    "\n",
    "#habilitamos matplotlib\n",
    "\n",
    "%matplotlib inline\n",
    "\n",
    "from matplotlib import style\n"
   ]
  },
  {
   "cell_type": "code",
   "execution_count": 90,
   "id": "2a8e8b13",
   "metadata": {
    "slideshow": {
     "slide_type": "subslide"
    }
   },
   "outputs": [
    {
     "name": "stdout",
     "output_type": "stream",
     "text": [
      "El Dataset se encuentra en el destino C:\\Users\\Lenovo\\Documents\\GitHub\\Proyecto-Final---Startups\\data\\Startups.csv\n"
     ]
    }
   ],
   "source": [
    "#definimos el path al Dataset e importamos los datos al Dataframe\n",
    "\n",
    "from os import path\n",
    "\n",
    "archivo = \"data\\Startups.csv\"\n",
    "\n",
    "print(f\"El Dataset se encuentra en el destino {path.abspath(archivo)}\")\n",
    "\n",
    "path = \"data\\Startups.csv\"\n",
    "\n",
    "df = pd.read_csv(path)\n"
   ]
  },
  {
   "cell_type": "markdown",
   "id": "132ecf7a",
   "metadata": {
    "slideshow": {
     "slide_type": "slide"
    }
   },
   "source": [
    "<a id='2._Exploración'></a>\n",
    "## 2. Exploración"
   ]
  },
  {
   "cell_type": "code",
   "execution_count": 91,
   "id": "d2308255",
   "metadata": {
    "slideshow": {
     "slide_type": "subslide"
    }
   },
   "outputs": [
    {
     "name": "stdout",
     "output_type": "stream",
     "text": [
      "El dataset tiene 250 filas y 5 columnas.\n",
      "\n",
      "<class 'pandas.core.frame.DataFrame'>\n",
      "RangeIndex: 250 entries, 0 to 249\n",
      "Data columns (total 5 columns):\n",
      " #   Column          Non-Null Count  Dtype  \n",
      "---  ------          --------------  -----  \n",
      " 0   Company         250 non-null    object \n",
      " 1   Valuation       250 non-null    float64\n",
      " 2   Valuation_date  250 non-null    object \n",
      " 3   Industry        233 non-null    object \n",
      " 4   Country         250 non-null    object \n",
      "dtypes: float64(1), object(4)\n",
      "memory usage: 9.9+ KB\n"
     ]
    },
    {
     "data": {
      "text/html": [
       "<div>\n",
       "<style scoped>\n",
       "    .dataframe tbody tr th:only-of-type {\n",
       "        vertical-align: middle;\n",
       "    }\n",
       "\n",
       "    .dataframe tbody tr th {\n",
       "        vertical-align: top;\n",
       "    }\n",
       "\n",
       "    .dataframe thead th {\n",
       "        text-align: right;\n",
       "    }\n",
       "</style>\n",
       "<table border=\"1\" class=\"dataframe\">\n",
       "  <thead>\n",
       "    <tr style=\"text-align: right;\">\n",
       "      <th></th>\n",
       "      <th>Company</th>\n",
       "      <th>Valuation</th>\n",
       "      <th>Valuation_date</th>\n",
       "      <th>Industry</th>\n",
       "      <th>Country</th>\n",
       "    </tr>\n",
       "  </thead>\n",
       "  <tbody>\n",
       "    <tr>\n",
       "      <th>135</th>\n",
       "      <td>PointClickCare</td>\n",
       "      <td>4.00</td>\n",
       "      <td>January-21</td>\n",
       "      <td>Software</td>\n",
       "      <td>Canada</td>\n",
       "    </tr>\n",
       "    <tr>\n",
       "      <th>104</th>\n",
       "      <td>United Imaging Healthcare</td>\n",
       "      <td>5.00</td>\n",
       "      <td>September-17</td>\n",
       "      <td>Healthcare</td>\n",
       "      <td>China</td>\n",
       "    </tr>\n",
       "    <tr>\n",
       "      <th>38</th>\n",
       "      <td>Gusto</td>\n",
       "      <td>10.00</td>\n",
       "      <td>August-21</td>\n",
       "      <td>Software</td>\n",
       "      <td>United States</td>\n",
       "    </tr>\n",
       "    <tr>\n",
       "      <th>94</th>\n",
       "      <td>OneTrust</td>\n",
       "      <td>5.10</td>\n",
       "      <td>December-20</td>\n",
       "      <td>Cybersecurity</td>\n",
       "      <td>United Kingdom /  United States</td>\n",
       "    </tr>\n",
       "    <tr>\n",
       "      <th>77</th>\n",
       "      <td>Lianjia (Homelink)</td>\n",
       "      <td>6.04</td>\n",
       "      <td>April-17</td>\n",
       "      <td>Real estate</td>\n",
       "      <td>China</td>\n",
       "    </tr>\n",
       "  </tbody>\n",
       "</table>\n",
       "</div>"
      ],
      "text/plain": [
       "                       Company  Valuation Valuation_date       Industry  \\\n",
       "135             PointClickCare       4.00     January-21       Software   \n",
       "104  United Imaging Healthcare       5.00   September-17     Healthcare   \n",
       "38                       Gusto      10.00      August-21       Software   \n",
       "94                    OneTrust       5.10    December-20  Cybersecurity   \n",
       "77          Lianjia (Homelink)       6.04       April-17    Real estate   \n",
       "\n",
       "                              Country  \n",
       "135                            Canada  \n",
       "104                             China  \n",
       "38                      United States  \n",
       "94    United Kingdom /  United States  \n",
       "77                              China  "
      ]
     },
     "execution_count": 91,
     "metadata": {},
     "output_type": "execute_result"
    }
   ],
   "source": [
    "#forma del Dataset\n",
    "print(f\"El dataset tiene {df.shape[0]} filas y {df.shape[1]} columnas.\")\n",
    "print()\n",
    "      \n",
    "#informacion del Dataframe\n",
    "df.info()\n",
    "\n",
    "#visualizacion rapida random\n",
    "df.sample(5)\n"
   ]
  },
  {
   "cell_type": "code",
   "execution_count": 92,
   "id": "73657328",
   "metadata": {
    "slideshow": {
     "slide_type": "subslide"
    }
   },
   "outputs": [
    {
     "data": {
      "text/html": [
       "<div>\n",
       "<style scoped>\n",
       "    .dataframe tbody tr th:only-of-type {\n",
       "        vertical-align: middle;\n",
       "    }\n",
       "\n",
       "    .dataframe tbody tr th {\n",
       "        vertical-align: top;\n",
       "    }\n",
       "\n",
       "    .dataframe thead th {\n",
       "        text-align: right;\n",
       "    }\n",
       "</style>\n",
       "<table border=\"1\" class=\"dataframe\">\n",
       "  <thead>\n",
       "    <tr style=\"text-align: right;\">\n",
       "      <th></th>\n",
       "      <th>Company</th>\n",
       "      <th>Valuation</th>\n",
       "      <th>Valuation_date</th>\n",
       "      <th>Industry</th>\n",
       "      <th>Country</th>\n",
       "    </tr>\n",
       "  </thead>\n",
       "  <tbody>\n",
       "    <tr>\n",
       "      <th>0</th>\n",
       "      <td>ByteDance</td>\n",
       "      <td>140.0</td>\n",
       "      <td>April-21</td>\n",
       "      <td>Internet</td>\n",
       "      <td>China</td>\n",
       "    </tr>\n",
       "    <tr>\n",
       "      <th>1</th>\n",
       "      <td>SpaceX</td>\n",
       "      <td>100.0</td>\n",
       "      <td>October-21</td>\n",
       "      <td>Aerospace</td>\n",
       "      <td>United States</td>\n",
       "    </tr>\n",
       "    <tr>\n",
       "      <th>2</th>\n",
       "      <td>Stripe</td>\n",
       "      <td>95.0</td>\n",
       "      <td>March-21</td>\n",
       "      <td>Financial services</td>\n",
       "      <td>United States /  Ireland</td>\n",
       "    </tr>\n",
       "    <tr>\n",
       "      <th>3</th>\n",
       "      <td>Klarna</td>\n",
       "      <td>45.6</td>\n",
       "      <td>June-21</td>\n",
       "      <td>Fintech</td>\n",
       "      <td>Sweden</td>\n",
       "    </tr>\n",
       "    <tr>\n",
       "      <th>4</th>\n",
       "      <td>Canva</td>\n",
       "      <td>40.0</td>\n",
       "      <td>September-21</td>\n",
       "      <td>Graphic design</td>\n",
       "      <td>Australia</td>\n",
       "    </tr>\n",
       "  </tbody>\n",
       "</table>\n",
       "</div>"
      ],
      "text/plain": [
       "     Company  Valuation Valuation_date            Industry  \\\n",
       "0  ByteDance      140.0       April-21            Internet   \n",
       "1     SpaceX      100.0     October-21           Aerospace   \n",
       "2     Stripe       95.0       March-21  Financial services   \n",
       "3     Klarna       45.6        June-21             Fintech   \n",
       "4      Canva       40.0   September-21      Graphic design   \n",
       "\n",
       "                     Country  \n",
       "0                      China  \n",
       "1              United States  \n",
       "2   United States /  Ireland  \n",
       "3                     Sweden  \n",
       "4                  Australia  "
      ]
     },
     "execution_count": 92,
     "metadata": {},
     "output_type": "execute_result"
    }
   ],
   "source": [
    "#visualizacion de los extremos del Dataframe\n",
    "df.head(5)"
   ]
  },
  {
   "cell_type": "code",
   "execution_count": 93,
   "id": "a68cd901",
   "metadata": {},
   "outputs": [
    {
     "data": {
      "text/html": [
       "<div>\n",
       "<style scoped>\n",
       "    .dataframe tbody tr th:only-of-type {\n",
       "        vertical-align: middle;\n",
       "    }\n",
       "\n",
       "    .dataframe tbody tr th {\n",
       "        vertical-align: top;\n",
       "    }\n",
       "\n",
       "    .dataframe thead th {\n",
       "        text-align: right;\n",
       "    }\n",
       "</style>\n",
       "<table border=\"1\" class=\"dataframe\">\n",
       "  <thead>\n",
       "    <tr style=\"text-align: right;\">\n",
       "      <th></th>\n",
       "      <th>Company</th>\n",
       "      <th>Valuation</th>\n",
       "      <th>Valuation_date</th>\n",
       "      <th>Industry</th>\n",
       "      <th>Country</th>\n",
       "    </tr>\n",
       "  </thead>\n",
       "  <tbody>\n",
       "    <tr>\n",
       "      <th>245</th>\n",
       "      <td>Bitso</td>\n",
       "      <td>2.20</td>\n",
       "      <td>May-21</td>\n",
       "      <td>Cryptocurrency</td>\n",
       "      <td>Mexico</td>\n",
       "    </tr>\n",
       "    <tr>\n",
       "      <th>246</th>\n",
       "      <td>Gympass</td>\n",
       "      <td>2.20</td>\n",
       "      <td>June-21</td>\n",
       "      <td>NaN</td>\n",
       "      <td>Brazil /   United States</td>\n",
       "    </tr>\n",
       "    <tr>\n",
       "      <th>247</th>\n",
       "      <td>Kurly</td>\n",
       "      <td>2.20</td>\n",
       "      <td>July-21</td>\n",
       "      <td>E-commerce</td>\n",
       "      <td>South Korea</td>\n",
       "    </tr>\n",
       "    <tr>\n",
       "      <th>248</th>\n",
       "      <td>Addepar</td>\n",
       "      <td>2.17</td>\n",
       "      <td>June-21</td>\n",
       "      <td>Fintech</td>\n",
       "      <td>United States</td>\n",
       "    </tr>\n",
       "    <tr>\n",
       "      <th>249</th>\n",
       "      <td>Eightfold.ai</td>\n",
       "      <td>2.10</td>\n",
       "      <td>June-21</td>\n",
       "      <td>Artificial intelligence</td>\n",
       "      <td>United States</td>\n",
       "    </tr>\n",
       "  </tbody>\n",
       "</table>\n",
       "</div>"
      ],
      "text/plain": [
       "          Company  Valuation Valuation_date                 Industry  \\\n",
       "245         Bitso       2.20         May-21           Cryptocurrency   \n",
       "246       Gympass       2.20        June-21                      NaN   \n",
       "247         Kurly       2.20        July-21               E-commerce   \n",
       "248       Addepar       2.17        June-21                  Fintech   \n",
       "249  Eightfold.ai       2.10        June-21  Artificial intelligence   \n",
       "\n",
       "                        Country  \n",
       "245                      Mexico  \n",
       "246    Brazil /   United States  \n",
       "247                 South Korea  \n",
       "248               United States  \n",
       "249               United States  "
      ]
     },
     "execution_count": 93,
     "metadata": {},
     "output_type": "execute_result"
    }
   ],
   "source": [
    "#Visualizacion de las últimas filas del Dataframe\n",
    "\n",
    "df.tail(5)"
   ]
  },
  {
   "cell_type": "code",
   "execution_count": 94,
   "id": "29df9083",
   "metadata": {
    "scrolled": false,
    "slideshow": {
     "slide_type": "subslide"
    }
   },
   "outputs": [
    {
     "data": {
      "text/plain": [
       "Index(['Company', 'Valuation', 'Valuation_date', 'Industry', 'Country'], dtype='object')"
      ]
     },
     "execution_count": 94,
     "metadata": {},
     "output_type": "execute_result"
    }
   ],
   "source": [
    "#Mostramos las columnas del Dataframe\n",
    "\n",
    "df.columns"
   ]
  },
  {
   "cell_type": "code",
   "execution_count": 95,
   "id": "4117ef47",
   "metadata": {
    "scrolled": true
   },
   "outputs": [
    {
     "data": {
      "text/plain": [
       "array(['April-21', 'October-21', 'March-21', 'June-21', 'September-21',\n",
       "       'August-21', 'July-21', 'January-21', 'November-21', 'May-21',\n",
       "       'October-20', 'September-16', 'February-21', 'June-18',\n",
       "       'December-20', 'December-19', 'June-20', 'December-21', 'July-20',\n",
       "       'November-19', 'March-20', 'April-17', 'February-20', 'May-20',\n",
       "       'November-20', 'January-19', 'October-19', 'August-18', 'May-18',\n",
       "       'September-17', 'February-16', 'May-15', 'October-16',\n",
       "       'November-16', 'June-17', 'May-19', 'December-16', 'July-19',\n",
       "       'September-19', 'October-18', 'August-20', 'February-18',\n",
       "       'September-18', 'February-14', 'February-19', 'June-19',\n",
       "       'October-14', 'September-15', 'November-17', 'November-18'],\n",
       "      dtype=object)"
      ]
     },
     "execution_count": 95,
     "metadata": {},
     "output_type": "execute_result"
    }
   ],
   "source": [
    "df.Valuation_date.unique()"
   ]
  },
  {
   "cell_type": "markdown",
   "id": "b253ca3b",
   "metadata": {
    "slideshow": {
     "slide_type": "subslide"
    }
   },
   "source": [
    "#### El conjunto de datos tiene 5 columnas (Company, Valuation, Valuation_date, Industry, Country)\n",
    "\n",
    "1. Company: Describe el nombre de la empresa\n",
    "2. Valuation: Describe la valoración de la empresa.\n",
    "3. Valuation_date: Describe la fecha de valoración\n",
    "4. Industry: Describe la industria de la empresa.\n",
    "5. Country: Describe el país de la empresa.\n",
    "\n",
    "A simple vista se detectó la presencia de valores NaN"
   ]
  },
  {
   "cell_type": "markdown",
   "id": "d797b01b",
   "metadata": {
    "slideshow": {
     "slide_type": "slide"
    }
   },
   "source": [
    "<a id='3._Limpieza_de_datos'></a>\n",
    "## 3. Limpieza de datos"
   ]
  },
  {
   "cell_type": "code",
   "execution_count": 96,
   "id": "22d2f664",
   "metadata": {
    "slideshow": {
     "slide_type": "subslide"
    }
   },
   "outputs": [],
   "source": [
    "#hacemos una copia del df\n",
    "\n",
    "clean_df = df.copy()"
   ]
  },
  {
   "cell_type": "markdown",
   "id": "dfad76bb",
   "metadata": {},
   "source": [
    "Desde aquí en adelante trabajaremos con la copia del dataframe"
   ]
  },
  {
   "cell_type": "code",
   "execution_count": 97,
   "id": "c839da60",
   "metadata": {
    "slideshow": {
     "slide_type": "subslide"
    }
   },
   "outputs": [
    {
     "data": {
      "text/plain": [
       "Index(['Company', 'Valuation', 'Valuation_date', 'Industry_Field', 'Country'], dtype='object')"
      ]
     },
     "execution_count": 97,
     "metadata": {},
     "output_type": "execute_result"
    }
   ],
   "source": [
    "#renombramos la columna Industry\n",
    "\n",
    "clean_df= clean_df.rename(columns={\"Industry\":\"Industry_Field\"})\n",
    "\n",
    "clean_df.columns\n"
   ]
  },
  {
   "cell_type": "code",
   "execution_count": 98,
   "id": "70e3cedb",
   "metadata": {},
   "outputs": [
    {
     "data": {
      "text/plain": [
       "Index(['Company', 'Valuation_Billions', 'Valuation_date', 'Industry_Field',\n",
       "       'Country'],\n",
       "      dtype='object')"
      ]
     },
     "execution_count": 98,
     "metadata": {},
     "output_type": "execute_result"
    }
   ],
   "source": [
    "#Renombramos la columna Valuation especificando que está valuado en Billones\n",
    "\n",
    "clean_df = clean_df.rename(columns={'Valuation' : 'Valuation_Billions'})\n",
    "\n",
    "clean_df.columns"
   ]
  },
  {
   "cell_type": "code",
   "execution_count": 99,
   "id": "dd0558d5",
   "metadata": {
    "slideshow": {
     "slide_type": "skip"
    }
   },
   "outputs": [],
   "source": [
    "clean_df['Valuation_Billions'] = clean_df['Valuation_Billions']"
   ]
  },
  {
   "cell_type": "code",
   "execution_count": 100,
   "id": "5e90a833",
   "metadata": {
    "slideshow": {
     "slide_type": "skip"
    }
   },
   "outputs": [],
   "source": [
    "#clean_df.Valuation_Billions.unique()"
   ]
  },
  {
   "cell_type": "code",
   "execution_count": 101,
   "id": "9633c7fa",
   "metadata": {
    "slideshow": {
     "slide_type": "subslide"
    }
   },
   "outputs": [
    {
     "data": {
      "text/plain": [
       "Company                0\n",
       "Valuation_Billions     0\n",
       "Valuation_date         0\n",
       "Industry_Field        17\n",
       "Country                0\n",
       "dtype: int64"
      ]
     },
     "execution_count": 101,
     "metadata": {},
     "output_type": "execute_result"
    }
   ],
   "source": [
    "#verificamos si hay valores nulos \n",
    "\n",
    "clean_df.isnull().sum()\n"
   ]
  },
  {
   "cell_type": "code",
   "execution_count": 102,
   "id": "d3521031",
   "metadata": {},
   "outputs": [
    {
     "name": "stdout",
     "output_type": "stream",
     "text": [
      "Encontramos 17 valores NaN que deben ser reemplazados\n"
     ]
    }
   ],
   "source": [
    "print(f\"Encontramos {clean_df.isnull().Industry_Field.sum()} valores NaN que deben ser reemplazados\")\n"
   ]
  },
  {
   "cell_type": "code",
   "execution_count": 103,
   "id": "629d76ef",
   "metadata": {
    "slideshow": {
     "slide_type": "subslide"
    }
   },
   "outputs": [],
   "source": [
    "#Cambiamos los valores NaN por \"Undetermined\" ya que hace referencia al tipo de industria\n",
    "\n",
    "clean_df['Industry_Field'] = clean_df.Industry_Field.fillna('Undetermined')"
   ]
  },
  {
   "cell_type": "code",
   "execution_count": 104,
   "id": "edcc3586",
   "metadata": {},
   "outputs": [],
   "source": [
    "#Eliminamos espacios en blanco en categoría Country\n",
    "\n",
    "clean_df['Country'] = clean_df['Country'].str.strip()\n"
   ]
  },
  {
   "cell_type": "markdown",
   "id": "b896c760",
   "metadata": {},
   "source": [
    "#### Debido a incongruencias en los valores adoptados para la columna \"Country\" debimos eliminar aquellos espacios en blanco."
   ]
  },
  {
   "cell_type": "code",
   "execution_count": 105,
   "id": "81032757",
   "metadata": {
    "slideshow": {
     "slide_type": "subslide"
    }
   },
   "outputs": [
    {
     "data": {
      "text/html": [
       "<div>\n",
       "<style scoped>\n",
       "    .dataframe tbody tr th:only-of-type {\n",
       "        vertical-align: middle;\n",
       "    }\n",
       "\n",
       "    .dataframe tbody tr th {\n",
       "        vertical-align: top;\n",
       "    }\n",
       "\n",
       "    .dataframe thead th {\n",
       "        text-align: right;\n",
       "    }\n",
       "</style>\n",
       "<table border=\"1\" class=\"dataframe\">\n",
       "  <thead>\n",
       "    <tr style=\"text-align: right;\">\n",
       "      <th></th>\n",
       "      <th>Company</th>\n",
       "      <th>Valuation_Billions</th>\n",
       "      <th>Valuation_date</th>\n",
       "      <th>Industry_Field</th>\n",
       "      <th>Country</th>\n",
       "      <th>Anio_valuacion</th>\n",
       "      <th>Mes_valuacion</th>\n",
       "    </tr>\n",
       "  </thead>\n",
       "  <tbody>\n",
       "    <tr>\n",
       "      <th>190</th>\n",
       "      <td>Seismic</td>\n",
       "      <td>3.0</td>\n",
       "      <td>August-21</td>\n",
       "      <td>Software</td>\n",
       "      <td>United States</td>\n",
       "      <td>21</td>\n",
       "      <td>August</td>\n",
       "    </tr>\n",
       "    <tr>\n",
       "      <th>60</th>\n",
       "      <td>Netskope</td>\n",
       "      <td>7.5</td>\n",
       "      <td>July-21</td>\n",
       "      <td>Computer security</td>\n",
       "      <td>United States</td>\n",
       "      <td>21</td>\n",
       "      <td>July</td>\n",
       "    </tr>\n",
       "    <tr>\n",
       "      <th>41</th>\n",
       "      <td>Reddit</td>\n",
       "      <td>10.0</td>\n",
       "      <td>August-21</td>\n",
       "      <td>Internet media</td>\n",
       "      <td>United States</td>\n",
       "      <td>21</td>\n",
       "      <td>August</td>\n",
       "    </tr>\n",
       "    <tr>\n",
       "      <th>102</th>\n",
       "      <td>Royole</td>\n",
       "      <td>5.0</td>\n",
       "      <td>August-18</td>\n",
       "      <td>Flexible electronics</td>\n",
       "      <td>China /  United States</td>\n",
       "      <td>18</td>\n",
       "      <td>August</td>\n",
       "    </tr>\n",
       "    <tr>\n",
       "      <th>16</th>\n",
       "      <td>Dunamu</td>\n",
       "      <td>17.0</td>\n",
       "      <td>November-21</td>\n",
       "      <td>Cryptocurrency</td>\n",
       "      <td>South Korea</td>\n",
       "      <td>21</td>\n",
       "      <td>November</td>\n",
       "    </tr>\n",
       "  </tbody>\n",
       "</table>\n",
       "</div>"
      ],
      "text/plain": [
       "      Company  Valuation_Billions Valuation_date        Industry_Field  \\\n",
       "190   Seismic                 3.0      August-21              Software   \n",
       "60   Netskope                 7.5        July-21     Computer security   \n",
       "41     Reddit                10.0      August-21        Internet media   \n",
       "102    Royole                 5.0      August-18  Flexible electronics   \n",
       "16     Dunamu                17.0    November-21        Cryptocurrency   \n",
       "\n",
       "                    Country Anio_valuacion Mes_valuacion  \n",
       "190           United States             21        August  \n",
       "60            United States             21          July  \n",
       "41            United States             21        August  \n",
       "102  China /  United States             18        August  \n",
       "16              South Korea             21      November  "
      ]
     },
     "execution_count": 105,
     "metadata": {},
     "output_type": "execute_result"
    }
   ],
   "source": [
    "#Dividimos la columna Valuation_date para visualizar el mes y el año por separado\n",
    "\n",
    "fechas = clean_df['Valuation_date'].str.split('-', expand = True)\n",
    "\n",
    "clean_df['Anio_valuacion'] = fechas[1]\n",
    "clean_df['Mes_valuacion'] = fechas[0]\n",
    "\n",
    "clean_df.sample(5)"
   ]
  },
  {
   "cell_type": "code",
   "execution_count": 106,
   "id": "5b01c8d5",
   "metadata": {},
   "outputs": [
    {
     "data": {
      "text/plain": [
       "array(['21', '20', '16', '18', '19', '17', '15', '14'], dtype=object)"
      ]
     },
     "execution_count": 106,
     "metadata": {},
     "output_type": "execute_result"
    }
   ],
   "source": [
    "clean_df.Anio_valuacion.unique()"
   ]
  },
  {
   "cell_type": "markdown",
   "id": "d2c07b4f",
   "metadata": {},
   "source": [
    "#### Podemos ver que los datos referidos a las valuaciones de las empresas se remontan hasta el año 2014"
   ]
  },
  {
   "cell_type": "code",
   "execution_count": 107,
   "id": "f3a67adb",
   "metadata": {
    "scrolled": true,
    "slideshow": {
     "slide_type": "subslide"
    }
   },
   "outputs": [
    {
     "data": {
      "text/html": [
       "<div>\n",
       "<style scoped>\n",
       "    .dataframe tbody tr th:only-of-type {\n",
       "        vertical-align: middle;\n",
       "    }\n",
       "\n",
       "    .dataframe tbody tr th {\n",
       "        vertical-align: top;\n",
       "    }\n",
       "\n",
       "    .dataframe thead th {\n",
       "        text-align: right;\n",
       "    }\n",
       "</style>\n",
       "<table border=\"1\" class=\"dataframe\">\n",
       "  <thead>\n",
       "    <tr style=\"text-align: right;\">\n",
       "      <th></th>\n",
       "      <th>Industry_Field</th>\n",
       "    </tr>\n",
       "  </thead>\n",
       "  <tbody>\n",
       "    <tr>\n",
       "      <th>Fintech</th>\n",
       "      <td>24</td>\n",
       "    </tr>\n",
       "    <tr>\n",
       "      <th>Software</th>\n",
       "      <td>23</td>\n",
       "    </tr>\n",
       "    <tr>\n",
       "      <th>Undetermined</th>\n",
       "      <td>17</td>\n",
       "    </tr>\n",
       "    <tr>\n",
       "      <th>E-commerce</th>\n",
       "      <td>15</td>\n",
       "    </tr>\n",
       "    <tr>\n",
       "      <th>Artificial intelligence</th>\n",
       "      <td>10</td>\n",
       "    </tr>\n",
       "    <tr>\n",
       "      <th>Cryptocurrency</th>\n",
       "      <td>9</td>\n",
       "    </tr>\n",
       "    <tr>\n",
       "      <th>Financial services</th>\n",
       "      <td>9</td>\n",
       "    </tr>\n",
       "    <tr>\n",
       "      <th>Cybersecurity</th>\n",
       "      <td>8</td>\n",
       "    </tr>\n",
       "    <tr>\n",
       "      <th>Transportation</th>\n",
       "      <td>6</td>\n",
       "    </tr>\n",
       "    <tr>\n",
       "      <th>Marketplace</th>\n",
       "      <td>6</td>\n",
       "    </tr>\n",
       "  </tbody>\n",
       "</table>\n",
       "</div>"
      ],
      "text/plain": [
       "                         Industry_Field\n",
       "Fintech                              24\n",
       "Software                             23\n",
       "Undetermined                         17\n",
       "E-commerce                           15\n",
       "Artificial intelligence              10\n",
       "Cryptocurrency                        9\n",
       "Financial services                    9\n",
       "Cybersecurity                         8\n",
       "Transportation                        6\n",
       "Marketplace                           6"
      ]
     },
     "execution_count": 107,
     "metadata": {},
     "output_type": "execute_result"
    }
   ],
   "source": [
    "#top 10 startups cantidad de startups por rubro\n",
    "\n",
    "cantidad = clean_df.Industry_Field.value_counts().head(10).to_frame()\n",
    "\n",
    "cantidad"
   ]
  },
  {
   "cell_type": "markdown",
   "id": "3ef137d8",
   "metadata": {
    "slideshow": {
     "slide_type": "subslide"
    }
   },
   "source": [
    "#### En rasgos generales el Dataset se encontraba bastante limpio. Se realizaron pequeños ajustes para que el análisis pueda hacerse sin problemas. Se renombraron algunas columnas, se eliminaron espacios en blanco y se renombró aquellos valores NaN\n"
   ]
  },
  {
   "cell_type": "markdown",
   "id": "91cc1c0c",
   "metadata": {},
   "source": [
    "------------------"
   ]
  },
  {
   "cell_type": "markdown",
   "id": "a24b5efd",
   "metadata": {
    "slideshow": {
     "slide_type": "slide"
    }
   },
   "source": [
    "<a id='4._Presentación_de_los_datos'></a>\n",
    "## 4. Presentación de los datos"
   ]
  },
  {
   "cell_type": "markdown",
   "id": "ce2ab018",
   "metadata": {
    "slideshow": {
     "slide_type": "subslide"
    }
   },
   "source": [
    "### 4.1 ¿Qué país concentra la mayor cantidad de startups?"
   ]
  },
  {
   "cell_type": "markdown",
   "id": "3e4938c4",
   "metadata": {},
   "source": [
    "De forma de hacer más claro el análisis, nos centraremos siempre en el top 10 de compañias"
   ]
  },
  {
   "cell_type": "code",
   "execution_count": 108,
   "id": "7aef7cfb",
   "metadata": {
    "slideshow": {
     "slide_type": "subslide"
    }
   },
   "outputs": [],
   "source": [
    "#Contamos la cantidad de startups\n",
    "\n",
    "total_startup =  clean_df['Country'].count()"
   ]
  },
  {
   "cell_type": "code",
   "execution_count": 109,
   "id": "d22fdb84",
   "metadata": {},
   "outputs": [],
   "source": [
    "#Agrupamos los datos contando la cantidad de empresas por país\n",
    "\n",
    "industry_country = clean_df.groupby('Country')['Country'].count().sort_values(ascending = False).head(10).to_frame()\n"
   ]
  },
  {
   "cell_type": "markdown",
   "id": "60da23a4",
   "metadata": {},
   "source": [
    "Oportunidad de mejora: Se podría hacer una función ingresando los parámetros y que muestre el top 10"
   ]
  },
  {
   "cell_type": "code",
   "execution_count": 110,
   "id": "117f7920",
   "metadata": {},
   "outputs": [
    {
     "data": {
      "text/html": [
       "<div>\n",
       "<style scoped>\n",
       "    .dataframe tbody tr th:only-of-type {\n",
       "        vertical-align: middle;\n",
       "    }\n",
       "\n",
       "    .dataframe tbody tr th {\n",
       "        vertical-align: top;\n",
       "    }\n",
       "\n",
       "    .dataframe thead th {\n",
       "        text-align: right;\n",
       "    }\n",
       "</style>\n",
       "<table border=\"1\" class=\"dataframe\">\n",
       "  <thead>\n",
       "    <tr style=\"text-align: right;\">\n",
       "      <th></th>\n",
       "      <th>Quantity</th>\n",
       "    </tr>\n",
       "    <tr>\n",
       "      <th>Country</th>\n",
       "      <th></th>\n",
       "    </tr>\n",
       "  </thead>\n",
       "  <tbody>\n",
       "    <tr>\n",
       "      <th>United States</th>\n",
       "      <td>114</td>\n",
       "    </tr>\n",
       "    <tr>\n",
       "      <th>India</th>\n",
       "      <td>27</td>\n",
       "    </tr>\n",
       "    <tr>\n",
       "      <th>China</th>\n",
       "      <td>26</td>\n",
       "    </tr>\n",
       "    <tr>\n",
       "      <th>United Kingdom</th>\n",
       "      <td>11</td>\n",
       "    </tr>\n",
       "    <tr>\n",
       "      <th>Germany</th>\n",
       "      <td>6</td>\n",
       "    </tr>\n",
       "    <tr>\n",
       "      <th>Canada</th>\n",
       "      <td>6</td>\n",
       "    </tr>\n",
       "    <tr>\n",
       "      <th>South Korea</th>\n",
       "      <td>6</td>\n",
       "    </tr>\n",
       "    <tr>\n",
       "      <th>France</th>\n",
       "      <td>5</td>\n",
       "    </tr>\n",
       "    <tr>\n",
       "      <th>Israel /  United States</th>\n",
       "      <td>3</td>\n",
       "    </tr>\n",
       "    <tr>\n",
       "      <th>Israel</th>\n",
       "      <td>3</td>\n",
       "    </tr>\n",
       "  </tbody>\n",
       "</table>\n",
       "</div>"
      ],
      "text/plain": [
       "                         Quantity\n",
       "Country                          \n",
       "United States                 114\n",
       "India                          27\n",
       "China                          26\n",
       "United Kingdom                 11\n",
       "Germany                         6\n",
       "Canada                          6\n",
       "South Korea                     6\n",
       "France                          5\n",
       "Israel /  United States         3\n",
       "Israel                          3"
      ]
     },
     "execution_count": 110,
     "metadata": {},
     "output_type": "execute_result"
    }
   ],
   "source": [
    "industry_country.rename(columns={'Country':'Quantity'},\n",
    "               inplace=True)\n",
    "\n",
    "industry_country"
   ]
  },
  {
   "cell_type": "code",
   "execution_count": 111,
   "id": "aa65b408",
   "metadata": {
    "slideshow": {
     "slide_type": "subslide"
    }
   },
   "outputs": [
    {
     "data": {
      "image/png": "[encoded data removed]",
      "text/plain": [
       "<Figure size 720x576 with 1 Axes>"
      ]
     },
     "metadata": {},
     "output_type": "display_data"
    }
   ],
   "source": [
    "#Graficamos el porcentaje de la cantidad de empresas por país\n",
    "\n",
    "industry_country.plot.pie(x='Quantity', y='Quantity',figsize=(10,8), autopct='%.2f%%',  explode=[0.1, 0.02, 0.02,0.02, 0.02, 0.02,0.02, 0.02,0.02,0.02]);\n",
    "\n",
    "plt.style.use('seaborn-pastel')\n",
    "\n",
    "plt.title('Porcentaje de Startups por país', fontdict = {'fontsize':20, 'fontweight':'bold'});\n",
    "plt.xlabel('');\n",
    "plt.ylabel('');\n",
    "plt.legend(\"\");"
   ]
  },
  {
   "cell_type": "code",
   "execution_count": 112,
   "id": "82394fd1",
   "metadata": {
    "scrolled": false,
    "slideshow": {
     "slide_type": "subslide"
    }
   },
   "outputs": [
    {
     "data": {
      "image/png": "[encoded data removed]",
      "text/plain": [
       "<Figure size 720x360 with 1 Axes>"
      ]
     },
     "metadata": {
      "needs_background": "light"
     },
     "output_type": "display_data"
    }
   ],
   "source": [
    "#Graficamos la cantidad de startups por país\n",
    "\n",
    "industry_country.plot.bar(figsize=(10,5),color = 'blue' , alpha = 0.5);\n",
    "\n",
    "plt.style.use('ggplot')\n",
    "\n",
    "plt.title('Cantidad de startups por país', fontdict = {'fontsize':20, 'fontweight':'bold'});\n",
    "plt.xlabel('Países', fontdict = {'fontsize':20, 'fontweight':'bold'});\n",
    "plt.ylabel('Cantidad', fontdict = {'fontsize':20, 'fontweight':'bold'});\n",
    "plt.xticks(rotation=70);"
   ]
  },
  {
   "cell_type": "markdown",
   "id": "5ff69671",
   "metadata": {},
   "source": [
    "Podemos ver que EEUU lidera ampliamente la tabla en cantidad de Startups con 114, seguido por India con 27 y China con 26."
   ]
  },
  {
   "cell_type": "markdown",
   "id": "33394868",
   "metadata": {
    "slideshow": {
     "slide_type": "subslide"
    }
   },
   "source": [
    "### 4.2 Valuación total de las Startups por país"
   ]
  },
  {
   "cell_type": "code",
   "execution_count": 113,
   "id": "3e818068",
   "metadata": {
    "scrolled": true,
    "slideshow": {
     "slide_type": "subslide"
    }
   },
   "outputs": [
    {
     "data": {
      "text/html": [
       "<div>\n",
       "<style scoped>\n",
       "    .dataframe tbody tr th:only-of-type {\n",
       "        vertical-align: middle;\n",
       "    }\n",
       "\n",
       "    .dataframe tbody tr th {\n",
       "        vertical-align: top;\n",
       "    }\n",
       "\n",
       "    .dataframe thead th {\n",
       "        text-align: right;\n",
       "    }\n",
       "</style>\n",
       "<table border=\"1\" class=\"dataframe\">\n",
       "  <thead>\n",
       "    <tr style=\"text-align: right;\">\n",
       "      <th></th>\n",
       "      <th>Valuation_Billions</th>\n",
       "    </tr>\n",
       "    <tr>\n",
       "      <th>Country</th>\n",
       "      <th></th>\n",
       "    </tr>\n",
       "  </thead>\n",
       "  <tbody>\n",
       "    <tr>\n",
       "      <th>United States</th>\n",
       "      <td>806.17</td>\n",
       "    </tr>\n",
       "    <tr>\n",
       "      <th>China</th>\n",
       "      <td>315.29</td>\n",
       "    </tr>\n",
       "    <tr>\n",
       "      <th>India</th>\n",
       "      <td>130.00</td>\n",
       "    </tr>\n",
       "    <tr>\n",
       "      <th>United States /  Ireland</th>\n",
       "      <td>95.00</td>\n",
       "    </tr>\n",
       "    <tr>\n",
       "      <th>United Kingdom</th>\n",
       "      <td>94.25</td>\n",
       "    </tr>\n",
       "    <tr>\n",
       "      <th>Sweden</th>\n",
       "      <td>57.35</td>\n",
       "    </tr>\n",
       "    <tr>\n",
       "      <th>Australia</th>\n",
       "      <td>42.20</td>\n",
       "    </tr>\n",
       "    <tr>\n",
       "      <th>Brazil</th>\n",
       "      <td>37.00</td>\n",
       "    </tr>\n",
       "    <tr>\n",
       "      <th>South Korea</th>\n",
       "      <td>35.68</td>\n",
       "    </tr>\n",
       "    <tr>\n",
       "      <th>Germany</th>\n",
       "      <td>32.10</td>\n",
       "    </tr>\n",
       "  </tbody>\n",
       "</table>\n",
       "</div>"
      ],
      "text/plain": [
       "                          Valuation_Billions\n",
       "Country                                     \n",
       "United States                         806.17\n",
       "China                                 315.29\n",
       "India                                 130.00\n",
       "United States /  Ireland               95.00\n",
       "United Kingdom                         94.25\n",
       "Sweden                                 57.35\n",
       "Australia                              42.20\n",
       "Brazil                                 37.00\n",
       "South Korea                            35.68\n",
       "Germany                                32.10"
      ]
     },
     "execution_count": 113,
     "metadata": {},
     "output_type": "execute_result"
    }
   ],
   "source": [
    "#Creamos dataframe con valuación total por país\n",
    "\n",
    "country_total = clean_df.groupby(['Country'])['Valuation_Billions'].sum().sort_values(ascending = False).head(10).to_frame()\n",
    "\n",
    "country_total\n"
   ]
  },
  {
   "cell_type": "code",
   "execution_count": 117,
   "id": "a95a5000",
   "metadata": {
    "scrolled": true,
    "slideshow": {
     "slide_type": "subslide"
    }
   },
   "outputs": [
    {
     "data": {
      "image/png": "[encoded data removed]",
      "text/plain": [
       "<Figure size 720x360 with 1 Axes>"
      ]
     },
     "metadata": {},
     "output_type": "display_data"
    }
   ],
   "source": [
    "#Graficamos las empresas mejor valuadas y el país al que corresponden\n",
    "\n",
    "country_total.plot.bar(figsize=(10,5),color = 'blue' , alpha = 0.5);\n",
    "\n",
    "plt.style.use('ggplot')\n",
    "\n",
    "plt.title('Valuación total por país', fontdict = {'fontsize':20, 'fontweight':'bold'});\n",
    "plt.xlabel('Países', fontdict = {'fontsize':20, 'fontweight':'bold'});\n",
    "plt.ylabel('Billones', fontdict = {'fontsize':20, 'fontweight':'bold'});\n",
    "plt.xticks(rotation=70);"
   ]
  },
  {
   "cell_type": "markdown",
   "id": "33d835d8",
   "metadata": {},
   "source": [
    "Podemos ver que las empresas estadounidenses lideran en la valuación total de las Startups por país. Esto puede deberse a la amplia diferencia en las cantidades mencionadas en el apartado anterior ya que poseen el 55% del total de las Startups por país situadas en el top 10 de este análisis. A su vez, China se coloca en el segundo puesto, superando por más del doble a la India, ubicada en el tercer escalón."
   ]
  },
  {
   "cell_type": "code",
   "execution_count": 118,
   "id": "ce0d953a",
   "metadata": {
    "scrolled": true,
    "slideshow": {
     "slide_type": "subslide"
    }
   },
   "outputs": [
    {
     "data": {
      "text/html": [
       "<div>\n",
       "<style scoped>\n",
       "    .dataframe tbody tr th:only-of-type {\n",
       "        vertical-align: middle;\n",
       "    }\n",
       "\n",
       "    .dataframe tbody tr th {\n",
       "        vertical-align: top;\n",
       "    }\n",
       "\n",
       "    .dataframe thead th {\n",
       "        text-align: right;\n",
       "    }\n",
       "</style>\n",
       "<table border=\"1\" class=\"dataframe\">\n",
       "  <thead>\n",
       "    <tr style=\"text-align: right;\">\n",
       "      <th></th>\n",
       "      <th>Quantity</th>\n",
       "      <th>Valuation_Billions</th>\n",
       "    </tr>\n",
       "    <tr>\n",
       "      <th>Country</th>\n",
       "      <th></th>\n",
       "      <th></th>\n",
       "    </tr>\n",
       "  </thead>\n",
       "  <tbody>\n",
       "    <tr>\n",
       "      <th>United States</th>\n",
       "      <td>114</td>\n",
       "      <td>806.17</td>\n",
       "    </tr>\n",
       "    <tr>\n",
       "      <th>India</th>\n",
       "      <td>27</td>\n",
       "      <td>130.00</td>\n",
       "    </tr>\n",
       "    <tr>\n",
       "      <th>China</th>\n",
       "      <td>26</td>\n",
       "      <td>315.29</td>\n",
       "    </tr>\n",
       "    <tr>\n",
       "      <th>United Kingdom</th>\n",
       "      <td>11</td>\n",
       "      <td>94.25</td>\n",
       "    </tr>\n",
       "    <tr>\n",
       "      <th>Germany</th>\n",
       "      <td>6</td>\n",
       "      <td>32.10</td>\n",
       "    </tr>\n",
       "    <tr>\n",
       "      <th>South Korea</th>\n",
       "      <td>6</td>\n",
       "      <td>35.68</td>\n",
       "    </tr>\n",
       "  </tbody>\n",
       "</table>\n",
       "</div>"
      ],
      "text/plain": [
       "                Quantity  Valuation_Billions\n",
       "Country                                     \n",
       "United States        114              806.17\n",
       "India                 27              130.00\n",
       "China                 26              315.29\n",
       "United Kingdom        11               94.25\n",
       "Germany                6               32.10\n",
       "South Korea            6               35.68"
      ]
     },
     "execution_count": 118,
     "metadata": {},
     "output_type": "execute_result"
    }
   ],
   "source": [
    "#Visualizamos top 5 cantidad startups/valuación\n",
    "\n",
    "combo = industry_country.merge(country_total, on = ['Country'])\n",
    "\n",
    "combo"
   ]
  },
  {
   "cell_type": "code",
   "execution_count": 120,
   "id": "54df8070",
   "metadata": {
    "slideshow": {
     "slide_type": "subslide"
    }
   },
   "outputs": [
    {
     "data": {
      "image/png": "[encoded data removed]",
      "text/plain": [
       "<Figure size 720x360 with 1 Axes>"
      ]
     },
     "metadata": {},
     "output_type": "display_data"
    }
   ],
   "source": [
    "#Graficamos la valuación de las compañías vs la cantidad de empresas valuadas\n",
    "\n",
    "combo.plot(kind='bar', stacked=True, figsize = (10,5));\n",
    "\n",
    "plt.legend(bbox_to_anchor=(1, 1),borderaxespad=0)\n",
    "plt.style.use('seaborn-pastel')\n",
    "\n",
    "plt.title('Cantidad / Valuación', fontdict = {'fontsize':20, 'fontweight':'bold'});\n",
    "plt.xlabel('País', fontdict = {'fontsize':20, 'fontweight':'bold'});\n",
    "plt.ylabel('Billones', fontdict = {'fontsize':20, 'fontweight':'bold'});\n",
    "plt.xticks(rotation=0);"
   ]
  },
  {
   "cell_type": "markdown",
   "id": "9c1c9918",
   "metadata": {
    "slideshow": {
     "slide_type": "subslide"
    }
   },
   "source": [
    "### 4.3 Top 10 Startups mayor valuadas"
   ]
  },
  {
   "cell_type": "code",
   "execution_count": 121,
   "id": "d76602d5",
   "metadata": {
    "slideshow": {
     "slide_type": "subslide"
    }
   },
   "outputs": [
    {
     "data": {
      "text/html": [
       "<div>\n",
       "<style scoped>\n",
       "    .dataframe tbody tr th:only-of-type {\n",
       "        vertical-align: middle;\n",
       "    }\n",
       "\n",
       "    .dataframe tbody tr th {\n",
       "        vertical-align: top;\n",
       "    }\n",
       "\n",
       "    .dataframe thead th {\n",
       "        text-align: right;\n",
       "    }\n",
       "</style>\n",
       "<table border=\"1\" class=\"dataframe\">\n",
       "  <thead>\n",
       "    <tr style=\"text-align: right;\">\n",
       "      <th></th>\n",
       "      <th></th>\n",
       "      <th></th>\n",
       "      <th></th>\n",
       "      <th>Valuation_Billions</th>\n",
       "    </tr>\n",
       "    <tr>\n",
       "      <th>Country</th>\n",
       "      <th>Company</th>\n",
       "      <th>Industry_Field</th>\n",
       "      <th>Anio_valuacion</th>\n",
       "      <th></th>\n",
       "    </tr>\n",
       "  </thead>\n",
       "  <tbody>\n",
       "    <tr>\n",
       "      <th>China</th>\n",
       "      <th>ByteDance</th>\n",
       "      <th>Internet</th>\n",
       "      <th>21</th>\n",
       "      <td>140.0</td>\n",
       "    </tr>\n",
       "    <tr>\n",
       "      <th>United States</th>\n",
       "      <th>SpaceX</th>\n",
       "      <th>Aerospace</th>\n",
       "      <th>21</th>\n",
       "      <td>100.0</td>\n",
       "    </tr>\n",
       "    <tr>\n",
       "      <th>United States /  Ireland</th>\n",
       "      <th>Stripe</th>\n",
       "      <th>Financial services</th>\n",
       "      <th>21</th>\n",
       "      <td>95.0</td>\n",
       "    </tr>\n",
       "    <tr>\n",
       "      <th>Sweden</th>\n",
       "      <th>Klarna</th>\n",
       "      <th>Fintech</th>\n",
       "      <th>21</th>\n",
       "      <td>45.6</td>\n",
       "    </tr>\n",
       "    <tr>\n",
       "      <th>Australia</th>\n",
       "      <th>Canva</th>\n",
       "      <th>Graphic design</th>\n",
       "      <th>21</th>\n",
       "      <td>40.0</td>\n",
       "    </tr>\n",
       "    <tr>\n",
       "      <th rowspan=\"2\" valign=\"top\">United States</th>\n",
       "      <th>Instacart</th>\n",
       "      <th>Retail</th>\n",
       "      <th>21</th>\n",
       "      <td>39.0</td>\n",
       "    </tr>\n",
       "    <tr>\n",
       "      <th>Databricks</th>\n",
       "      <th>Software</th>\n",
       "      <th>21</th>\n",
       "      <td>38.0</td>\n",
       "    </tr>\n",
       "    <tr>\n",
       "      <th>United Kingdom</th>\n",
       "      <th>Revolut</th>\n",
       "      <th>Fintech</th>\n",
       "      <th>21</th>\n",
       "      <td>33.0</td>\n",
       "    </tr>\n",
       "    <tr>\n",
       "      <th>United Kingdom /  UAE</th>\n",
       "      <th>Telegram</th>\n",
       "      <th>Internet</th>\n",
       "      <th>21</th>\n",
       "      <td>30.0</td>\n",
       "    </tr>\n",
       "    <tr>\n",
       "      <th>Brazil</th>\n",
       "      <th>Nubank</th>\n",
       "      <th>Financial services</th>\n",
       "      <th>21</th>\n",
       "      <td>30.0</td>\n",
       "    </tr>\n",
       "  </tbody>\n",
       "</table>\n",
       "</div>"
      ],
      "text/plain": [
       "                                                                       Valuation_Billions\n",
       "Country                  Company    Industry_Field     Anio_valuacion                    \n",
       "China                    ByteDance  Internet           21                           140.0\n",
       "United States            SpaceX     Aerospace          21                           100.0\n",
       "United States /  Ireland Stripe     Financial services 21                            95.0\n",
       "Sweden                   Klarna     Fintech            21                            45.6\n",
       "Australia                Canva      Graphic design     21                            40.0\n",
       "United States            Instacart  Retail             21                            39.0\n",
       "                         Databricks Software           21                            38.0\n",
       "United Kingdom           Revolut    Fintech            21                            33.0\n",
       "United Kingdom /  UAE    Telegram   Internet           21                            30.0\n",
       "Brazil                   Nubank     Financial services 21                            30.0"
      ]
     },
     "execution_count": 121,
     "metadata": {},
     "output_type": "execute_result"
    }
   ],
   "source": [
    "#Creamos dataframe con el país de origen, el nombre de la empresa, rubro y valuación\n",
    "\n",
    "company_name = clean_df.groupby(['Country','Company','Industry_Field', 'Anio_valuacion'])['Valuation_Billions'].sum().sort_values(ascending = False).head(10).to_frame()\n",
    "\n",
    "company_name"
   ]
  },
  {
   "cell_type": "code",
   "execution_count": 122,
   "id": "9d9ae336",
   "metadata": {
    "scrolled": false,
    "slideshow": {
     "slide_type": "subslide"
    }
   },
   "outputs": [
    {
     "data": {
      "image/png": "[encoded data removed]",
      "text/plain": [
       "<Figure size 720x360 with 1 Axes>"
      ]
     },
     "metadata": {},
     "output_type": "display_data"
    }
   ],
   "source": [
    "#Graficamos el top 10 de empresas mejor valuadas mostrando su nombre y su país de origen\n",
    "\n",
    "company_name = clean_df.groupby(['Country','Company','Industry_Field'])['Valuation_Billions'].sum().sort_values(ascending = False).head(10).unstack('Country')\n",
    "\n",
    "company_name.plot(kind='barh', stacked=True, figsize = (10,5))\n",
    "\n",
    "plt.legend(bbox_to_anchor=(1, 1),borderaxespad=0)\n",
    "plt.style.use('seaborn-pastel')\n",
    "\n",
    "plt.title(\"Top 10 Startups\", fontdict = {'fontsize':20, 'fontweight':'bold'});\n",
    "plt.xlabel(\"Empresa / Rubro\", fontdict = {'fontsize':20, 'fontweight':'bold'});\n",
    "plt.ylabel(\"Valuación\", fontdict = {'fontsize':20, 'fontweight':'bold'});\n",
    "plt.title(\"Top 10 Startups\", fontdict = {'fontsize':20, 'fontweight':'bold'});\n",
    "plt.xticks(rotation=45);\n",
    "plt.tight_layout()"
   ]
  },
  {
   "cell_type": "markdown",
   "id": "192ec840",
   "metadata": {
    "slideshow": {
     "slide_type": "subslide"
    }
   },
   "source": [
    "Ahora, cuando vemos aquellas empresas mejor valuadas, encontramos que la empresa China ByteDance lidera la lista con una valuación total de 140 billones de USD, superando a aquella mejor valuada de origen Estadounidense."
   ]
  },
  {
   "cell_type": "markdown",
   "id": "52862e27",
   "metadata": {
    "slideshow": {
     "slide_type": "subslide"
    }
   },
   "source": [
    "### 4.4 ¿Qué país concentra una mayor valuación y qué industria la compone?"
   ]
  },
  {
   "cell_type": "code",
   "execution_count": 123,
   "id": "f5faf94c",
   "metadata": {
    "scrolled": false,
    "slideshow": {
     "slide_type": "subslide"
    }
   },
   "outputs": [
    {
     "data": {
      "text/html": [
       "<div>\n",
       "<style scoped>\n",
       "    .dataframe tbody tr th:only-of-type {\n",
       "        vertical-align: middle;\n",
       "    }\n",
       "\n",
       "    .dataframe tbody tr th {\n",
       "        vertical-align: top;\n",
       "    }\n",
       "\n",
       "    .dataframe thead th {\n",
       "        text-align: right;\n",
       "    }\n",
       "</style>\n",
       "<table border=\"1\" class=\"dataframe\">\n",
       "  <thead>\n",
       "    <tr style=\"text-align: right;\">\n",
       "      <th></th>\n",
       "      <th></th>\n",
       "      <th>Valuation_Billions</th>\n",
       "    </tr>\n",
       "    <tr>\n",
       "      <th>Country</th>\n",
       "      <th>Industry_Field</th>\n",
       "      <th></th>\n",
       "    </tr>\n",
       "  </thead>\n",
       "  <tbody>\n",
       "    <tr>\n",
       "      <th>China</th>\n",
       "      <th>Internet</th>\n",
       "      <td>140.00</td>\n",
       "    </tr>\n",
       "    <tr>\n",
       "      <th rowspan=\"2\" valign=\"top\">United States</th>\n",
       "      <th>Software</th>\n",
       "      <td>128.46</td>\n",
       "    </tr>\n",
       "    <tr>\n",
       "      <th>Aerospace</th>\n",
       "      <td>104.20</td>\n",
       "    </tr>\n",
       "    <tr>\n",
       "      <th>United States /  Ireland</th>\n",
       "      <th>Financial services</th>\n",
       "      <td>95.00</td>\n",
       "    </tr>\n",
       "    <tr>\n",
       "      <th>United Kingdom</th>\n",
       "      <th>Fintech</th>\n",
       "      <td>61.70</td>\n",
       "    </tr>\n",
       "    <tr>\n",
       "      <th>United States</th>\n",
       "      <th>E-commerce</th>\n",
       "      <td>51.59</td>\n",
       "    </tr>\n",
       "    <tr>\n",
       "      <th>Sweden</th>\n",
       "      <th>Fintech</th>\n",
       "      <td>45.60</td>\n",
       "    </tr>\n",
       "    <tr>\n",
       "      <th rowspan=\"2\" valign=\"top\">United States</th>\n",
       "      <th>Undetermined</th>\n",
       "      <td>42.15</td>\n",
       "    </tr>\n",
       "    <tr>\n",
       "      <th>Retail</th>\n",
       "      <td>42.00</td>\n",
       "    </tr>\n",
       "    <tr>\n",
       "      <th>Australia</th>\n",
       "      <th>Graphic design</th>\n",
       "      <td>40.00</td>\n",
       "    </tr>\n",
       "  </tbody>\n",
       "</table>\n",
       "</div>"
      ],
      "text/plain": [
       "                                             Valuation_Billions\n",
       "Country                  Industry_Field                        \n",
       "China                    Internet                        140.00\n",
       "United States            Software                        128.46\n",
       "                         Aerospace                       104.20\n",
       "United States /  Ireland Financial services               95.00\n",
       "United Kingdom           Fintech                          61.70\n",
       "United States            E-commerce                       51.59\n",
       "Sweden                   Fintech                          45.60\n",
       "United States            Undetermined                     42.15\n",
       "                         Retail                           42.00\n",
       "Australia                Graphic design                   40.00"
      ]
     },
     "execution_count": 123,
     "metadata": {},
     "output_type": "execute_result"
    }
   ],
   "source": [
    "#Creamos dataframe que muestre a que rubro pertenece las empresas mejor valuadas por país\n",
    "\n",
    "country_valuation = clean_df.groupby(['Country','Industry_Field',])['Valuation_Billions'].sum().sort_values(ascending = False).head(10).to_frame()\n",
    "    \n",
    "country_valuation"
   ]
  },
  {
   "cell_type": "code",
   "execution_count": 124,
   "id": "49790543",
   "metadata": {},
   "outputs": [],
   "source": [
    "#Unstackeamos para poder realizar gráfico acumulado\n",
    "\n",
    "country_valuation = clean_df.groupby(['Country','Industry_Field',])['Valuation_Billions'].sum().sort_values(ascending = False).head(10).unstack('Industry_Field')"
   ]
  },
  {
   "cell_type": "code",
   "execution_count": 125,
   "id": "22487de3",
   "metadata": {
    "scrolled": false,
    "slideshow": {
     "slide_type": "subslide"
    }
   },
   "outputs": [
    {
     "data": {
      "image/png": "[encoded data removed]",
      "text/plain": [
       "<Figure size 720x360 with 1 Axes>"
      ]
     },
     "metadata": {},
     "output_type": "display_data"
    }
   ],
   "source": [
    "#Graficamos el acumulado de empresas mejor valuadas por país\n",
    "\n",
    "country_valuation.plot(kind='bar', stacked=True, figsize = (10,5))\n",
    "\n",
    "plt.legend(bbox_to_anchor=(1, 1),borderaxespad=0)\n",
    "plt.style.use('seaborn-pastel')\n",
    "\n",
    "plt.title('Composicion de valuación total por país e industria', fontdict = {'fontsize':20, 'fontweight':'bold'});\n",
    "plt.xlabel('País / Industria', fontdict = {'fontsize':20, 'fontweight':'bold'});\n",
    "plt.ylabel('Billones', fontdict = {'fontsize':20, 'fontweight':'bold'});\n",
    "plt.xticks(rotation=30);\n",
    "\n"
   ]
  },
  {
   "cell_type": "markdown",
   "id": "aa5abbf2",
   "metadata": {},
   "source": [
    "Se puede observar la variedad en la composición de industrias de la valuación total de las empresas de EEUU. Esto sin duda habla de un entorno sumamente favorable para que empresas de este tipo surjan y predominen en el mundo. "
   ]
  },
  {
   "cell_type": "markdown",
   "id": "e9a841df",
   "metadata": {
    "slideshow": {
     "slide_type": "subslide"
    }
   },
   "source": [
    "### 4.5 ¿Que rubro posee una mayor valuación total?"
   ]
  },
  {
   "cell_type": "code",
   "execution_count": 126,
   "id": "8f8bb89b",
   "metadata": {
    "slideshow": {
     "slide_type": "subslide"
    }
   },
   "outputs": [
    {
     "data": {
      "text/html": [
       "<div>\n",
       "<style scoped>\n",
       "    .dataframe tbody tr th:only-of-type {\n",
       "        vertical-align: middle;\n",
       "    }\n",
       "\n",
       "    .dataframe tbody tr th {\n",
       "        vertical-align: top;\n",
       "    }\n",
       "\n",
       "    .dataframe thead th {\n",
       "        text-align: right;\n",
       "    }\n",
       "</style>\n",
       "<table border=\"1\" class=\"dataframe\">\n",
       "  <thead>\n",
       "    <tr style=\"text-align: right;\">\n",
       "      <th></th>\n",
       "      <th>Valuation_Billions</th>\n",
       "    </tr>\n",
       "    <tr>\n",
       "      <th>Industry_Field</th>\n",
       "      <th></th>\n",
       "    </tr>\n",
       "  </thead>\n",
       "  <tbody>\n",
       "    <tr>\n",
       "      <th>Fintech</th>\n",
       "      <td>180.97</td>\n",
       "    </tr>\n",
       "    <tr>\n",
       "      <th>Financial services</th>\n",
       "      <td>173.90</td>\n",
       "    </tr>\n",
       "    <tr>\n",
       "      <th>Internet</th>\n",
       "      <td>173.00</td>\n",
       "    </tr>\n",
       "    <tr>\n",
       "      <th>Software</th>\n",
       "      <td>161.81</td>\n",
       "    </tr>\n",
       "    <tr>\n",
       "      <th>E-commerce</th>\n",
       "      <td>125.74</td>\n",
       "    </tr>\n",
       "    <tr>\n",
       "      <th>Aerospace</th>\n",
       "      <td>104.20</td>\n",
       "    </tr>\n",
       "    <tr>\n",
       "      <th>Cryptocurrency</th>\n",
       "      <td>73.50</td>\n",
       "    </tr>\n",
       "    <tr>\n",
       "      <th>Undetermined</th>\n",
       "      <td>61.73</td>\n",
       "    </tr>\n",
       "    <tr>\n",
       "      <th>Artificial intelligence</th>\n",
       "      <td>60.53</td>\n",
       "    </tr>\n",
       "    <tr>\n",
       "      <th>Retail</th>\n",
       "      <td>58.06</td>\n",
       "    </tr>\n",
       "  </tbody>\n",
       "</table>\n",
       "</div>"
      ],
      "text/plain": [
       "                         Valuation_Billions\n",
       "Industry_Field                             \n",
       "Fintech                              180.97\n",
       "Financial services                   173.90\n",
       "Internet                             173.00\n",
       "Software                             161.81\n",
       "E-commerce                           125.74\n",
       "Aerospace                            104.20\n",
       "Cryptocurrency                        73.50\n",
       "Undetermined                          61.73\n",
       "Artificial intelligence               60.53\n",
       "Retail                                58.06"
      ]
     },
     "execution_count": 126,
     "metadata": {},
     "output_type": "execute_result"
    }
   ],
   "source": [
    "#Creamos dataframe que muestre el rubro con mayor valuación\n",
    "\n",
    "total_valuation = clean_df.groupby(['Industry_Field',])['Valuation_Billions'].sum().sort_values(ascending = False).head(10).to_frame()\n",
    "\n",
    "total_valuation"
   ]
  },
  {
   "cell_type": "code",
   "execution_count": 127,
   "id": "eccef153",
   "metadata": {
    "slideshow": {
     "slide_type": "subslide"
    }
   },
   "outputs": [
    {
     "data": {
      "image/png": "[encoded data removed]",
      "text/plain": [
       "<Figure size 720x360 with 1 Axes>"
      ]
     },
     "metadata": {},
     "output_type": "display_data"
    }
   ],
   "source": [
    "#Graficamos el porcentaje del total que representa cada rubro\n",
    "\n",
    "total_valuatiop_plt = total_valuation.plot.pie(x='Industry_Field',\n",
    "                                               y='Valuation_Billions',figsize=(10,5),\n",
    "                                               autopct='%.2f%%',\n",
    "                                               explode=[0.1, 0.02, 0.02,0.02, 0.02, 0.02,0.02, 0.02,0.02,0.02]);\n",
    "\n",
    "plt.style.use('seaborn-pastel')\n",
    "\n",
    "plt.title('Porcentaje de Startups por Industria', fontdict = {'fontsize':20, 'fontweight':'bold'});\n",
    "plt.xlabel('');\n",
    "plt.ylabel('');\n",
    "plt.legend(\"\");"
   ]
  },
  {
   "cell_type": "code",
   "execution_count": 128,
   "id": "3ff9926e",
   "metadata": {
    "slideshow": {
     "slide_type": "skip"
    }
   },
   "outputs": [],
   "source": [
    "#valuation_df.plot.bar(x='Country', stacked=True, title='Valuation');"
   ]
  },
  {
   "cell_type": "markdown",
   "id": "8e78ed35",
   "metadata": {},
   "source": [
    "Este gráfico nos permite ver qué rubro es el que se encuentra mejor valuado. En este caso, el sector Fintech es el que lidera, seguido muy de cerca por el sector Financial Services, Internet y Software. Esto puede significar que haya mayor cantidad de empresas en este rubro, o que haya empresas mejor valuadas o una combinación de ambas.\n",
    "\n",
    "En este caso, habría que tener particular precisión a la hora de definir los rubros en los posteriores análisis."
   ]
  },
  {
   "cell_type": "markdown",
   "id": "f97d6ade",
   "metadata": {},
   "source": [
    "-----------"
   ]
  },
  {
   "cell_type": "markdown",
   "id": "bf2b82d7",
   "metadata": {
    "slideshow": {
     "slide_type": "subslide"
    }
   },
   "source": [
    "### 4.6 ¿Qué industria compone las mayores valuaciones por país?"
   ]
  },
  {
   "cell_type": "code",
   "execution_count": 129,
   "id": "7b80c1f7",
   "metadata": {
    "slideshow": {
     "slide_type": "subslide"
    }
   },
   "outputs": [
    {
     "name": "stdout",
     "output_type": "stream",
     "text": [
      "La valuación total de las startups al año 2021 es: 1955.21 billones de USD\n"
     ]
    }
   ],
   "source": [
    "#Caclulamos la valuación total de las empresas del dataframe original \n",
    "#es necesario dejar esto con el print? o directamente anotarlo en un markdown?\n",
    "\n",
    "total_valuation =  clean_df['Valuation_Billions'].sum()\n",
    "\n",
    "print(f\"La valuación total de las startups al año 2021 es: {total_valuation} billones de USD\")"
   ]
  },
  {
   "cell_type": "code",
   "execution_count": 130,
   "id": "066a93fc",
   "metadata": {},
   "outputs": [
    {
     "name": "stdout",
     "output_type": "stream",
     "text": [
      "La valuación del top 10 startups  al año 2021 es: 590.6 billones de USD\n"
     ]
    }
   ],
   "source": [
    "#Calculamos el total del top 10\n",
    "\n",
    "top_valuation =  clean_df['Valuation_Billions'].head(10).sum()\n",
    "\n",
    "print(f\"La valuación del top 10 startups  al año 2021 es: {top_valuation} billones de USD\")"
   ]
  },
  {
   "cell_type": "code",
   "execution_count": 131,
   "id": "fda0a17e",
   "metadata": {
    "scrolled": true,
    "slideshow": {
     "slide_type": "subslide"
    }
   },
   "outputs": [
    {
     "data": {
      "text/html": [
       "<div>\n",
       "<style scoped>\n",
       "    .dataframe tbody tr th:only-of-type {\n",
       "        vertical-align: middle;\n",
       "    }\n",
       "\n",
       "    .dataframe tbody tr th {\n",
       "        vertical-align: top;\n",
       "    }\n",
       "\n",
       "    .dataframe thead th {\n",
       "        text-align: right;\n",
       "    }\n",
       "</style>\n",
       "<table border=\"1\" class=\"dataframe\">\n",
       "  <thead>\n",
       "    <tr style=\"text-align: right;\">\n",
       "      <th></th>\n",
       "      <th>Company</th>\n",
       "      <th>Valuation_Billions</th>\n",
       "      <th>Valuation_date</th>\n",
       "      <th>Industry_Field</th>\n",
       "      <th>Country</th>\n",
       "      <th>Anio_valuacion</th>\n",
       "      <th>Mes_valuacion</th>\n",
       "      <th>Valuation_Percentage</th>\n",
       "    </tr>\n",
       "  </thead>\n",
       "  <tbody>\n",
       "    <tr>\n",
       "      <th>0</th>\n",
       "      <td>ByteDance</td>\n",
       "      <td>140.0</td>\n",
       "      <td>April-21</td>\n",
       "      <td>Internet</td>\n",
       "      <td>China</td>\n",
       "      <td>21</td>\n",
       "      <td>April</td>\n",
       "      <td>23.70</td>\n",
       "    </tr>\n",
       "    <tr>\n",
       "      <th>1</th>\n",
       "      <td>SpaceX</td>\n",
       "      <td>100.0</td>\n",
       "      <td>October-21</td>\n",
       "      <td>Aerospace</td>\n",
       "      <td>United States</td>\n",
       "      <td>21</td>\n",
       "      <td>October</td>\n",
       "      <td>16.93</td>\n",
       "    </tr>\n",
       "    <tr>\n",
       "      <th>2</th>\n",
       "      <td>Stripe</td>\n",
       "      <td>95.0</td>\n",
       "      <td>March-21</td>\n",
       "      <td>Financial services</td>\n",
       "      <td>United States /  Ireland</td>\n",
       "      <td>21</td>\n",
       "      <td>March</td>\n",
       "      <td>16.09</td>\n",
       "    </tr>\n",
       "    <tr>\n",
       "      <th>3</th>\n",
       "      <td>Klarna</td>\n",
       "      <td>45.6</td>\n",
       "      <td>June-21</td>\n",
       "      <td>Fintech</td>\n",
       "      <td>Sweden</td>\n",
       "      <td>21</td>\n",
       "      <td>June</td>\n",
       "      <td>7.72</td>\n",
       "    </tr>\n",
       "    <tr>\n",
       "      <th>4</th>\n",
       "      <td>Canva</td>\n",
       "      <td>40.0</td>\n",
       "      <td>September-21</td>\n",
       "      <td>Graphic design</td>\n",
       "      <td>Australia</td>\n",
       "      <td>21</td>\n",
       "      <td>September</td>\n",
       "      <td>6.77</td>\n",
       "    </tr>\n",
       "    <tr>\n",
       "      <th>5</th>\n",
       "      <td>Instacart</td>\n",
       "      <td>39.0</td>\n",
       "      <td>March-21</td>\n",
       "      <td>Retail</td>\n",
       "      <td>United States</td>\n",
       "      <td>21</td>\n",
       "      <td>March</td>\n",
       "      <td>6.60</td>\n",
       "    </tr>\n",
       "    <tr>\n",
       "      <th>6</th>\n",
       "      <td>Databricks</td>\n",
       "      <td>38.0</td>\n",
       "      <td>August-21</td>\n",
       "      <td>Software</td>\n",
       "      <td>United States</td>\n",
       "      <td>21</td>\n",
       "      <td>August</td>\n",
       "      <td>6.43</td>\n",
       "    </tr>\n",
       "    <tr>\n",
       "      <th>7</th>\n",
       "      <td>Revolut</td>\n",
       "      <td>33.0</td>\n",
       "      <td>July-21</td>\n",
       "      <td>Fintech</td>\n",
       "      <td>United Kingdom</td>\n",
       "      <td>21</td>\n",
       "      <td>July</td>\n",
       "      <td>5.59</td>\n",
       "    </tr>\n",
       "    <tr>\n",
       "      <th>8</th>\n",
       "      <td>Nubank</td>\n",
       "      <td>30.0</td>\n",
       "      <td>June-21</td>\n",
       "      <td>Financial services</td>\n",
       "      <td>Brazil</td>\n",
       "      <td>21</td>\n",
       "      <td>June</td>\n",
       "      <td>5.08</td>\n",
       "    </tr>\n",
       "    <tr>\n",
       "      <th>9</th>\n",
       "      <td>Telegram</td>\n",
       "      <td>30.0</td>\n",
       "      <td>January-21</td>\n",
       "      <td>Internet</td>\n",
       "      <td>United Kingdom /  UAE</td>\n",
       "      <td>21</td>\n",
       "      <td>January</td>\n",
       "      <td>5.08</td>\n",
       "    </tr>\n",
       "  </tbody>\n",
       "</table>\n",
       "</div>"
      ],
      "text/plain": [
       "      Company  Valuation_Billions Valuation_date      Industry_Field  \\\n",
       "0   ByteDance               140.0       April-21            Internet   \n",
       "1      SpaceX               100.0     October-21           Aerospace   \n",
       "2      Stripe                95.0       March-21  Financial services   \n",
       "3      Klarna                45.6        June-21             Fintech   \n",
       "4       Canva                40.0   September-21      Graphic design   \n",
       "5   Instacart                39.0       March-21              Retail   \n",
       "6  Databricks                38.0      August-21            Software   \n",
       "7     Revolut                33.0        July-21             Fintech   \n",
       "8      Nubank                30.0        June-21  Financial services   \n",
       "9    Telegram                30.0     January-21            Internet   \n",
       "\n",
       "                    Country Anio_valuacion Mes_valuacion  Valuation_Percentage  \n",
       "0                     China             21         April                 23.70  \n",
       "1             United States             21       October                 16.93  \n",
       "2  United States /  Ireland             21         March                 16.09  \n",
       "3                    Sweden             21          June                  7.72  \n",
       "4                 Australia             21     September                  6.77  \n",
       "5             United States             21         March                  6.60  \n",
       "6             United States             21        August                  6.43  \n",
       "7            United Kingdom             21          July                  5.59  \n",
       "8                    Brazil             21          June                  5.08  \n",
       "9     United Kingdom /  UAE             21       January                  5.08  "
      ]
     },
     "execution_count": 131,
     "metadata": {},
     "output_type": "execute_result"
    }
   ],
   "source": [
    "#Creamos la columna mostrando el porcentaje de la valuación total\n",
    "\n",
    "clean_df['Valuation_Percentage'] = round((clean_df['Valuation_Billions']/top_valuation)*100,2)\n",
    "\n",
    "clean_df.head(10)"
   ]
  },
  {
   "cell_type": "code",
   "execution_count": 132,
   "id": "65b2deec",
   "metadata": {
    "slideshow": {
     "slide_type": "subslide"
    }
   },
   "outputs": [
    {
     "data": {
      "text/html": [
       "<div>\n",
       "<style scoped>\n",
       "    .dataframe tbody tr th:only-of-type {\n",
       "        vertical-align: middle;\n",
       "    }\n",
       "\n",
       "    .dataframe tbody tr th {\n",
       "        vertical-align: top;\n",
       "    }\n",
       "\n",
       "    .dataframe thead th {\n",
       "        text-align: right;\n",
       "    }\n",
       "</style>\n",
       "<table border=\"1\" class=\"dataframe\">\n",
       "  <thead>\n",
       "    <tr style=\"text-align: right;\">\n",
       "      <th></th>\n",
       "      <th></th>\n",
       "      <th></th>\n",
       "      <th>Valuation_Billions</th>\n",
       "    </tr>\n",
       "    <tr>\n",
       "      <th>Country</th>\n",
       "      <th>Industry_Field</th>\n",
       "      <th>Valuation_Percentage</th>\n",
       "      <th></th>\n",
       "    </tr>\n",
       "  </thead>\n",
       "  <tbody>\n",
       "    <tr>\n",
       "      <th>China</th>\n",
       "      <th>Internet</th>\n",
       "      <th>23.70</th>\n",
       "      <td>140.0</td>\n",
       "    </tr>\n",
       "    <tr>\n",
       "      <th>United States</th>\n",
       "      <th>Aerospace</th>\n",
       "      <th>16.93</th>\n",
       "      <td>100.0</td>\n",
       "    </tr>\n",
       "    <tr>\n",
       "      <th>United States /  Ireland</th>\n",
       "      <th>Financial services</th>\n",
       "      <th>16.09</th>\n",
       "      <td>95.0</td>\n",
       "    </tr>\n",
       "    <tr>\n",
       "      <th>Sweden</th>\n",
       "      <th>Fintech</th>\n",
       "      <th>7.72</th>\n",
       "      <td>45.6</td>\n",
       "    </tr>\n",
       "    <tr>\n",
       "      <th>Australia</th>\n",
       "      <th>Graphic design</th>\n",
       "      <th>6.77</th>\n",
       "      <td>40.0</td>\n",
       "    </tr>\n",
       "    <tr>\n",
       "      <th rowspan=\"2\" valign=\"top\">United States</th>\n",
       "      <th>Retail</th>\n",
       "      <th>6.60</th>\n",
       "      <td>39.0</td>\n",
       "    </tr>\n",
       "    <tr>\n",
       "      <th>Software</th>\n",
       "      <th>6.43</th>\n",
       "      <td>38.0</td>\n",
       "    </tr>\n",
       "    <tr>\n",
       "      <th>United Kingdom</th>\n",
       "      <th>Fintech</th>\n",
       "      <th>5.59</th>\n",
       "      <td>33.0</td>\n",
       "    </tr>\n",
       "    <tr>\n",
       "      <th>United Kingdom /  UAE</th>\n",
       "      <th>Internet</th>\n",
       "      <th>5.08</th>\n",
       "      <td>30.0</td>\n",
       "    </tr>\n",
       "    <tr>\n",
       "      <th>Brazil</th>\n",
       "      <th>Financial services</th>\n",
       "      <th>5.08</th>\n",
       "      <td>30.0</td>\n",
       "    </tr>\n",
       "  </tbody>\n",
       "</table>\n",
       "</div>"
      ],
      "text/plain": [
       "                                                                  Valuation_Billions\n",
       "Country                  Industry_Field     Valuation_Percentage                    \n",
       "China                    Internet           23.70                              140.0\n",
       "United States            Aerospace          16.93                              100.0\n",
       "United States /  Ireland Financial services 16.09                               95.0\n",
       "Sweden                   Fintech            7.72                                45.6\n",
       "Australia                Graphic design     6.77                                40.0\n",
       "United States            Retail             6.60                                39.0\n",
       "                         Software           6.43                                38.0\n",
       "United Kingdom           Fintech            5.59                                33.0\n",
       "United Kingdom /  UAE    Internet           5.08                                30.0\n",
       "Brazil                   Financial services 5.08                                30.0"
      ]
     },
     "execution_count": 132,
     "metadata": {},
     "output_type": "execute_result"
    }
   ],
   "source": [
    "#Agrupamos por país e industria\n",
    "\n",
    "total_percentage = clean_df.groupby(['Country','Industry_Field', 'Valuation_Percentage'])['Valuation_Billions'].sum().sort_values(ascending = False).head(10)\n",
    "\n",
    "total_percentage.to_frame()"
   ]
  },
  {
   "cell_type": "code",
   "execution_count": 133,
   "id": "cc4030f3",
   "metadata": {
    "slideshow": {
     "slide_type": "subslide"
    }
   },
   "outputs": [
    {
     "data": {
      "image/png": "[encoded data removed]",
      "text/plain": [
       "<Figure size 720x504 with 1 Axes>"
      ]
     },
     "metadata": {},
     "output_type": "display_data"
    }
   ],
   "source": [
    "#Graficamos como se muestra compuesto la valuación total del top 10 de empresas\n",
    "\n",
    "total_percentage_plot = total_percentage.plot.pie(x='Total_Valuation', y='Valuation_Percentage',\n",
    "                                                  figsize=(10,7), autopct='%.2f%%',\n",
    "                                                  explode=[0.1, 0.02, 0.02,0.02, 0.02, 0.02,0.02, 0.02,0.02,0.02]);\n",
    "\n",
    "plt.style.use('seaborn-pastel')\n",
    "\n",
    "plt.title('Valuación porcentual por país', fontdict = {'fontsize':20, 'fontweight':'bold'});\n",
    "plt.xlabel('');\n",
    "plt.ylabel('');\n"
   ]
  },
  {
   "cell_type": "markdown",
   "id": "b566f95d",
   "metadata": {},
   "source": [
    "En este gráfico se puede observar como se componen las valuaciones mayores de cada país. La empresa mejor valuada es China y pertenece al rubro Internet. Esta corresponde al 23% de la valuación total de las 10 empresas mejor valuadas, seguida por una empresa Estadounidense del rubro Aerospace."
   ]
  },
  {
   "cell_type": "markdown",
   "id": "de044c18",
   "metadata": {
    "slideshow": {
     "slide_type": "subslide"
    }
   },
   "source": [
    "### 4.7 ¿Que rubro lidera la aparición de Startups en el año 2021?"
   ]
  },
  {
   "cell_type": "code",
   "execution_count": 134,
   "id": "9c09fa36",
   "metadata": {
    "slideshow": {
     "slide_type": "subslide"
    }
   },
   "outputs": [
    {
     "data": {
      "text/html": [
       "<div>\n",
       "<style scoped>\n",
       "    .dataframe tbody tr th:only-of-type {\n",
       "        vertical-align: middle;\n",
       "    }\n",
       "\n",
       "    .dataframe tbody tr th {\n",
       "        vertical-align: top;\n",
       "    }\n",
       "\n",
       "    .dataframe thead th {\n",
       "        text-align: right;\n",
       "    }\n",
       "</style>\n",
       "<table border=\"1\" class=\"dataframe\">\n",
       "  <thead>\n",
       "    <tr style=\"text-align: right;\">\n",
       "      <th></th>\n",
       "      <th>index</th>\n",
       "      <th>Industry_Field</th>\n",
       "    </tr>\n",
       "  </thead>\n",
       "  <tbody>\n",
       "    <tr>\n",
       "      <th>0</th>\n",
       "      <td>Fintech</td>\n",
       "      <td>24</td>\n",
       "    </tr>\n",
       "    <tr>\n",
       "      <th>1</th>\n",
       "      <td>Software</td>\n",
       "      <td>23</td>\n",
       "    </tr>\n",
       "    <tr>\n",
       "      <th>2</th>\n",
       "      <td>Undetermined</td>\n",
       "      <td>17</td>\n",
       "    </tr>\n",
       "    <tr>\n",
       "      <th>3</th>\n",
       "      <td>E-commerce</td>\n",
       "      <td>15</td>\n",
       "    </tr>\n",
       "    <tr>\n",
       "      <th>4</th>\n",
       "      <td>Artificial intelligence</td>\n",
       "      <td>10</td>\n",
       "    </tr>\n",
       "    <tr>\n",
       "      <th>5</th>\n",
       "      <td>Cryptocurrency</td>\n",
       "      <td>9</td>\n",
       "    </tr>\n",
       "    <tr>\n",
       "      <th>6</th>\n",
       "      <td>Financial services</td>\n",
       "      <td>9</td>\n",
       "    </tr>\n",
       "    <tr>\n",
       "      <th>7</th>\n",
       "      <td>Cybersecurity</td>\n",
       "      <td>8</td>\n",
       "    </tr>\n",
       "    <tr>\n",
       "      <th>8</th>\n",
       "      <td>Transportation</td>\n",
       "      <td>6</td>\n",
       "    </tr>\n",
       "    <tr>\n",
       "      <th>9</th>\n",
       "      <td>Marketplace</td>\n",
       "      <td>6</td>\n",
       "    </tr>\n",
       "  </tbody>\n",
       "</table>\n",
       "</div>"
      ],
      "text/plain": [
       "                     index  Industry_Field\n",
       "0                  Fintech              24\n",
       "1                 Software              23\n",
       "2             Undetermined              17\n",
       "3               E-commerce              15\n",
       "4  Artificial intelligence              10\n",
       "5           Cryptocurrency               9\n",
       "6       Financial services               9\n",
       "7            Cybersecurity               8\n",
       "8           Transportation               6\n",
       "9              Marketplace               6"
      ]
     },
     "execution_count": 134,
     "metadata": {},
     "output_type": "execute_result"
    }
   ],
   "source": [
    "#Creamos el dataframe por tipo de industria\n",
    "\n",
    "industry_type = cantidad.reset_index()\n",
    "\n",
    "industry_type"
   ]
  },
  {
   "cell_type": "code",
   "execution_count": 135,
   "id": "b4c04b03",
   "metadata": {
    "scrolled": false,
    "slideshow": {
     "slide_type": "subslide"
    }
   },
   "outputs": [
    {
     "data": {
      "image/png": "[encoded data removed]",
      "text/plain": [
       "<Figure size 864x432 with 1 Axes>"
      ]
     },
     "metadata": {},
     "output_type": "display_data"
    }
   ],
   "source": [
    "#Graficamos en dispersión el rubro que más empresas contiene\n",
    "\n",
    "plt.figure(figsize=(12,6))\n",
    "sns.scatterplot(x=\"Industry_Field\", \n",
    "                y=\"index\",\n",
    "                size=\"Industry_Field\",\n",
    "                sizes=(100,500),\n",
    "                hue = 'index',\n",
    "                data=industry_type)\n",
    "\n",
    "plt.legend(bbox_to_anchor=(1.5, 1),borderaxespad=0)\n",
    "plt.xlabel(\"Cantidad de startups\", fontdict = {'fontsize':20, 'fontweight':'bold'});\n",
    "plt.ylabel(\"Industria\", fontdict = {'fontsize':20, 'fontweight':'bold'});\n",
    "plt.title(\"Startups por tipo de industria\", fontdict = {'fontsize':20, 'fontweight':'bold'});\n",
    "plt.tight_layout()"
   ]
  },
  {
   "cell_type": "code",
   "execution_count": 136,
   "id": "fbb61fca",
   "metadata": {
    "scrolled": true,
    "slideshow": {
     "slide_type": "subslide"
    }
   },
   "outputs": [
    {
     "data": {
      "text/html": [
       "<div>\n",
       "<style scoped>\n",
       "    .dataframe tbody tr th:only-of-type {\n",
       "        vertical-align: middle;\n",
       "    }\n",
       "\n",
       "    .dataframe tbody tr th {\n",
       "        vertical-align: top;\n",
       "    }\n",
       "\n",
       "    .dataframe thead th {\n",
       "        text-align: right;\n",
       "    }\n",
       "</style>\n",
       "<table border=\"1\" class=\"dataframe\">\n",
       "  <thead>\n",
       "    <tr style=\"text-align: right;\">\n",
       "      <th></th>\n",
       "      <th></th>\n",
       "      <th>Quantity</th>\n",
       "    </tr>\n",
       "    <tr>\n",
       "      <th>Anio_valuacion</th>\n",
       "      <th>Industry_Field</th>\n",
       "      <th></th>\n",
       "    </tr>\n",
       "  </thead>\n",
       "  <tbody>\n",
       "    <tr>\n",
       "      <th rowspan=\"10\" valign=\"top\">21</th>\n",
       "      <th>Software</th>\n",
       "      <td>22</td>\n",
       "    </tr>\n",
       "    <tr>\n",
       "      <th>Fintech</th>\n",
       "      <td>21</td>\n",
       "    </tr>\n",
       "    <tr>\n",
       "      <th>E-commerce</th>\n",
       "      <td>13</td>\n",
       "    </tr>\n",
       "    <tr>\n",
       "      <th>Undetermined</th>\n",
       "      <td>9</td>\n",
       "    </tr>\n",
       "    <tr>\n",
       "      <th>Cryptocurrency</th>\n",
       "      <td>8</td>\n",
       "    </tr>\n",
       "    <tr>\n",
       "      <th>Artificial intelligence</th>\n",
       "      <td>7</td>\n",
       "    </tr>\n",
       "    <tr>\n",
       "      <th>Cybersecurity</th>\n",
       "      <td>7</td>\n",
       "    </tr>\n",
       "    <tr>\n",
       "      <th>Financial services</th>\n",
       "      <td>7</td>\n",
       "    </tr>\n",
       "    <tr>\n",
       "      <th>Marketplace</th>\n",
       "      <td>5</td>\n",
       "    </tr>\n",
       "    <tr>\n",
       "      <th>Health technology</th>\n",
       "      <td>4</td>\n",
       "    </tr>\n",
       "  </tbody>\n",
       "</table>\n",
       "</div>"
      ],
      "text/plain": [
       "                                        Quantity\n",
       "Anio_valuacion Industry_Field                   \n",
       "21             Software                       22\n",
       "               Fintech                        21\n",
       "               E-commerce                     13\n",
       "               Undetermined                    9\n",
       "               Cryptocurrency                  8\n",
       "               Artificial intelligence         7\n",
       "               Cybersecurity                   7\n",
       "               Financial services              7\n",
       "               Marketplace                     5\n",
       "               Health technology               4"
      ]
     },
     "execution_count": 136,
     "metadata": {},
     "output_type": "execute_result"
    }
   ],
   "source": [
    "#Mostramos el ranking de acuerdo a las valuaciones de 2021\n",
    "\n",
    "combi = clean_df.groupby(['Anio_valuacion', 'Industry_Field'])['Industry_Field'].count().sort_values(ascending = False).head(10).to_frame()\n",
    "\n",
    "combi.rename(columns = {'Industry_Field':'Quantity'})\n"
   ]
  },
  {
   "cell_type": "code",
   "execution_count": 137,
   "id": "62145804",
   "metadata": {
    "slideshow": {
     "slide_type": "subslide"
    }
   },
   "outputs": [
    {
     "data": {
      "image/png": "[encoded data removed]",
      "text/plain": [
       "<Figure size 720x216 with 1 Axes>"
      ]
     },
     "metadata": {},
     "output_type": "display_data"
    }
   ],
   "source": [
    "#Graficamos el ranking de aparición de startups de 2021\n",
    "\n",
    "combi.plot.bar(figsize=(10,3),color = 'blue' , alpha = 0.5);\n",
    "\n",
    "plt.style.use('ggplot')\n",
    "\n",
    "plt.title('Startups valuadas al año 2021', fontdict = {'fontsize':20, 'fontweight':'bold'});\n",
    "plt.xlabel('Año / Industria', fontdict = {'fontsize':20, 'fontweight':'bold'});\n",
    "plt.ylabel('Cantidad', fontdict = {'fontsize':20, 'fontweight':'bold'});\n",
    "plt.xticks(rotation=70);"
   ]
  },
  {
   "cell_type": "markdown",
   "id": "33179e79",
   "metadata": {},
   "source": [
    "Este gráfico demuestra que el rubro que más ha desarrollado startups en el año pasado, corresponde al sector Software, seguido por empresas del sector Fintech y por empresas del rubro E-Commerce.\n",
    "\n",
    "Aunque la variación respecto al total de las empresas es mínimo, el Top 3 mencionado anteriormente (Rubros con más valuaciones) permanece invariable. "
   ]
  },
  {
   "cell_type": "markdown",
   "id": "201d8dc8",
   "metadata": {
    "slideshow": {
     "slide_type": "slide"
    }
   },
   "source": [
    "<a id='5._Conclusiones'></a>\n",
    "## 5. Conclusiones"
   ]
  },
  {
   "cell_type": "markdown",
   "id": "2a6df244",
   "metadata": {
    "slideshow": {
     "slide_type": "subslide"
    }
   },
   "source": [
    "#### Llegando al final del análisis, podemos establecer algunos hallazgos que han surgido a través del mismo.\n",
    "\n",
    "1. **EEUU lidera ampliamente la tabla en cantidad de Startups con 114**, seguido por India con 27 y China con 26.\n",
    "\n",
    "\n",
    "2. **Las empresas estadounidenses lideran en la valuación total de las Startups por país.** \n",
    "\n",
    "Esto puede deberse a la amplia diferencia en las cantidades mencionadas en el apartado anterior ya que **poseen el 55% del total de las Startups por país situadas en el top 10 de este análisis.** \n",
    "\n",
    "A su vez, China se coloca en el segundo puesto, superando por más del doble a la India, ubicada en el tercer escalón.\n",
    "\n",
    "\n",
    "3. Cuando vemos aquellas empresas mejor valuadas, encontramos que **la empresa China ByteDance lidera la lista con una valuación total de 140 billones de USD, superando a aquella mejor valuada de origen Estadounidense, SpaceX.**\n",
    "\n",
    "\n",
    "4. La variedad en la composición de industrias de la valuación total de las empresas de EEUU **puede deberse a un entorno sumamente favorable para el desarrollo y subsistencia de este tipo de empresas.**"
   ]
  },
  {
   "cell_type": "markdown",
   "id": "af65e7de",
   "metadata": {
    "slideshow": {
     "slide_type": "subslide"
    }
   },
   "source": [
    "5. **El sector Fintech es el que lidera las empresas mejor valuadas,** seguido muy de cerca por el sector Financial Services, Internet y Software. \n",
    "\n",
    "Esto puede significar que haya mayor cantidad de empresas en este rubro, o que haya empresas mejor valuadas o una combinación de ambos escenarios.\n",
    "\n",
    "\n",
    "6. **La empresa mejor valuada es China y pertenece al rubro Internet.** Esta corresponde al 23% de la valuación total de las 10 empresas mejor valuadas, seguida por una empresa Estadounidense del rubro Aerospace, SpaceX. \n",
    "\n",
    "\n",
    "7. **El rubro Software lidera la cantidad de Startups al año 2021.** \n",
    "\n",
    "Esto significa que el rubro que más ha desarrollado startups en el año pasado, corresponde al sector Software, seguido por empresas del sector Fintech y por empresas cuyo rubro no pudo determinarse con los datos presentes en el Dataset. \n",
    "\n",
    "#### Esto puede resultar interesante para profundizar la investigación, ya que poseemos un gran número de empresas cuyo rubro no pudo determinarse. En este caso, también *habría que tener mayor precisión a la hora de definir los rubros en los posteriores análisiso realizar cambios en la limpieza del Dataset.*"
   ]
  },
  {
   "cell_type": "markdown",
   "id": "f2e3b1be",
   "metadata": {
    "slideshow": {
     "slide_type": "subslide"
    }
   },
   "source": [
    "### ¿Cómo profundizar el análisis?\n",
    "\n",
    "#### Para esto debemos tener en cuenta diversos elementos.\n",
    "\n",
    "1. En primer lugar, trabajar con un Dataset acotado a un año, limita las posibilidades de análisis de la evolución de estos sectores y empresas. Sería interesante poseer un Dataset con los datos de estas empresas para diversos años.\n",
    "\n",
    "\n",
    "2. Un gráfico del mapa mundial de surgimiento de estas empresas, brindaría una facilidad visual importante.\n",
    "\n",
    "\n",
    "4. Profundizar el análisis relativo a las causas que favorecen la aparición de estas empresas y los efectos que producen en las economías y en el desarrollo de los mismos puede presentar información valiosa para dirigir políticas o esfuerzos para fomentar la creación y aparición de este tipo de empresas.\n",
    "\n",
    "\n",
    "5. Si el Dataset no es preciso en la definición de los rubros de las industrias, se debe transformar aquellos que sean rubros sinónimos (caso Financial Services - Fintech)"
   ]
  },
  {
   "cell_type": "markdown",
   "id": "d8b53e5d",
   "metadata": {
    "slideshow": {
     "slide_type": "subslide"
    }
   },
   "source": [
    "<a id='6._Referencias'></a>\n",
    "## 6. Referencias"
   ]
  },
  {
   "cell_type": "markdown",
   "id": "66465134",
   "metadata": {},
   "source": [
    "#### Dataset\n",
    "\n",
    "https://www.kaggle.com/khaiid/startups-by-valuation\n",
    "\n",
    "#### Stacked chart\n",
    "\n",
    "https://medium.com/@jb.ranchana/easy-way-to-create-stacked-bar-graphs-from-dataframe-19cc97c86fe3\n",
    "\n",
    "#### Ejemplo hipervinculos en Jupyter\n",
    "\n",
    "https://github.com/Victoriapm/Analyze_A-B_Test_Results/blob/master/Analyze_ab_test_results_notebook.ipynb\n",
    "\n"
   ]
  },
  {
   "cell_type": "markdown",
   "id": "9f30a45e",
   "metadata": {
    "slideshow": {
     "slide_type": "slide"
    }
   },
   "source": [
    "# ¡Gracias por su atención!"
   ]
  },
  {
   "cell_type": "markdown",
   "id": "b0325f39",
   "metadata": {},
   "source": [
    "-------------"
   ]
  }
 ],
 "metadata": {
  "celltoolbar": "Slideshow",
  "kernelspec": {
   "display_name": "Python 3",
   "language": "python",
   "name": "python3"
  },
  "language_info": {
   "codemirror_mode": {
    "name": "ipython",
    "version": 3
   },
   "file_extension": ".py",
   "mimetype": "text/x-python",
   "name": "python",
   "nbconvert_exporter": "python",
   "pygments_lexer": "ipython3",
   "version": "3.8.8"
  }
 },
 "nbformat": 4,
 "nbformat_minor": 5
}
