{
 "cells": [
  {
   "cell_type": "markdown",
   "id": "64ab5a6d",
   "metadata": {
    "slideshow": {
     "slide_type": "slide"
    }
   },
   "source": [
    "# **Estudio de Startups en el mundo según su valuación de mercado**\n",
    "\n",
    "#### por Franco Luis Blardone\n",
    "\n",
    "-------------------------\n",
    "\n",
    "Este repositorio contiene un análisis de datos de distintas Startups en el mundo, centrando su análisis en país de origen, valuación e industria a la cual pertenecen. Los datos obtenidos corresponden al año 2021.\n",
    "\n",
    "Nos centraremos en aquellas startups denominadas **\"Unicornios\"** que son aquellas que alcanzan una valuación de 1 Billón de USD sin ser listadas en los mercados de acciones.\n",
    "\n",
    "## Objetivos\n",
    "\n",
    "El objetivo es estudiar las relaciones entre el surgimiento de estas compañías y responder los siguientes interrogantes:\n",
    "- Qué industria tiene mayor cantidad de startups\n",
    "- Qué país concentra la mayor cantidad de startups\n",
    "- Qué valuación total significan estas startups\n",
    "- Cantidad de estas compañías que tiene el potencial de sobrevivir en el mercado.\n",
    "\n",
    "## Tabla de contenidos\n",
    "\n",
    "1. Carga de datos\n",
    "2. Exploración\n",
    "3. Limpieza de datos\n",
    "4. Presentación de los datos\n",
    "5. Conclusiones\n",
    "6. Referencias\n",
    "\n",
    "# Como hacer lista de contenido linkeada?\n",
    "\n",
    "https://stackoverflow.com/questions/49535664/how-to-hyperlink-in-a-jupyter-notebook\n",
    "--------------------------\n"
   ]
  },
  {
   "cell_type": "markdown",
   "id": "e50b8403",
   "metadata": {
    "slideshow": {
     "slide_type": "slide"
    }
   },
   "source": [
    "## 1. Carga de datos"
   ]
  },
  {
   "cell_type": "markdown",
   "id": "a70a4288",
   "metadata": {
    "slideshow": {
     "slide_type": "slide"
    }
   },
   "source": [
    "Este Dataset fue descargado en formato .csv de la web pública Kaggle.\n",
    "\n",
    "Link to Dataset: https://www.kaggle.com/khaiid/startups-by-valuation"
   ]
  },
  {
   "cell_type": "code",
   "execution_count": 2,
   "id": "b8f17376",
   "metadata": {},
   "outputs": [],
   "source": [
    "#importamos librerias\n",
    "\n",
    "import pandas as pd\n",
    "\n",
    "import numpy as np \n",
    "\n",
    "import seaborn as sns\n",
    "\n",
    "import matplotlib.pyplot as plt\n",
    "\n",
    "#habilitamos matplotlib\n",
    "\n",
    "%matplotlib inline\n",
    "\n",
    "from matplotlib import style\n",
    "\n",
    "style.use('seaborn-pastel')\n"
   ]
  },
  {
   "cell_type": "code",
   "execution_count": 3,
   "id": "2a8e8b13",
   "metadata": {},
   "outputs": [
    {
     "name": "stdout",
     "output_type": "stream",
     "text": [
      "El Dataset se encuentra en el destino C:\\Users\\Lenovo\\Documents\\GitHub\\Proyecto-Final---Startups\\data\\Startups.csv\n"
     ]
    }
   ],
   "source": [
    "#definimos el path al Dataset e importamos los datos al Dataframe\n",
    "\n",
    "from os import path\n",
    "\n",
    "archivo = \"data\\Startups.csv\"\n",
    "\n",
    "print(f\"El Dataset se encuentra en el destino {path.abspath(archivo)}\")\n",
    "\n",
    "path = \"data\\Startups.csv\"\n",
    "\n",
    "df = pd.read_csv(path)\n"
   ]
  },
  {
   "cell_type": "markdown",
   "id": "132ecf7a",
   "metadata": {},
   "source": [
    "## 2. Exploración"
   ]
  },
  {
   "cell_type": "code",
   "execution_count": 4,
   "id": "d2308255",
   "metadata": {},
   "outputs": [
    {
     "name": "stdout",
     "output_type": "stream",
     "text": [
      "El dataset tiene 250 filas y 5 columnas.\n",
      "\n",
      "<class 'pandas.core.frame.DataFrame'>\n",
      "RangeIndex: 250 entries, 0 to 249\n",
      "Data columns (total 5 columns):\n",
      " #   Column          Non-Null Count  Dtype  \n",
      "---  ------          --------------  -----  \n",
      " 0   Company         250 non-null    object \n",
      " 1   Valuation       250 non-null    float64\n",
      " 2   Valuation_date  250 non-null    object \n",
      " 3   Industry        233 non-null    object \n",
      " 4   Country         250 non-null    object \n",
      "dtypes: float64(1), object(4)\n",
      "memory usage: 9.9+ KB\n"
     ]
    },
    {
     "data": {
      "text/html": [
       "<div>\n",
       "<style scoped>\n",
       "    .dataframe tbody tr th:only-of-type {\n",
       "        vertical-align: middle;\n",
       "    }\n",
       "\n",
       "    .dataframe tbody tr th {\n",
       "        vertical-align: top;\n",
       "    }\n",
       "\n",
       "    .dataframe thead th {\n",
       "        text-align: right;\n",
       "    }\n",
       "</style>\n",
       "<table border=\"1\" class=\"dataframe\">\n",
       "  <thead>\n",
       "    <tr style=\"text-align: right;\">\n",
       "      <th></th>\n",
       "      <th>Company</th>\n",
       "      <th>Valuation</th>\n",
       "      <th>Valuation_date</th>\n",
       "      <th>Industry</th>\n",
       "      <th>Country</th>\n",
       "    </tr>\n",
       "  </thead>\n",
       "  <tbody>\n",
       "    <tr>\n",
       "      <th>33</th>\n",
       "      <td>ZongMu Technology</td>\n",
       "      <td>11.0</td>\n",
       "      <td>June-21</td>\n",
       "      <td>Self-driving cars</td>\n",
       "      <td>China</td>\n",
       "    </tr>\n",
       "    <tr>\n",
       "      <th>120</th>\n",
       "      <td>Relativity Space</td>\n",
       "      <td>4.2</td>\n",
       "      <td>June-21</td>\n",
       "      <td>Aerospace</td>\n",
       "      <td>United States</td>\n",
       "    </tr>\n",
       "    <tr>\n",
       "      <th>54</th>\n",
       "      <td>Tempus</td>\n",
       "      <td>8.1</td>\n",
       "      <td>December-20</td>\n",
       "      <td>Health</td>\n",
       "      <td>United States</td>\n",
       "    </tr>\n",
       "    <tr>\n",
       "      <th>198</th>\n",
       "      <td>Wefox</td>\n",
       "      <td>3.0</td>\n",
       "      <td>June-21</td>\n",
       "      <td>NaN</td>\n",
       "      <td>Germany</td>\n",
       "    </tr>\n",
       "    <tr>\n",
       "      <th>223</th>\n",
       "      <td>Sourcegraph</td>\n",
       "      <td>2.6</td>\n",
       "      <td>July-21</td>\n",
       "      <td>NaN</td>\n",
       "      <td>United States</td>\n",
       "    </tr>\n",
       "  </tbody>\n",
       "</table>\n",
       "</div>"
      ],
      "text/plain": [
       "               Company  Valuation Valuation_date           Industry  \\\n",
       "33   ZongMu Technology       11.0        June-21  Self-driving cars   \n",
       "120   Relativity Space        4.2        June-21          Aerospace   \n",
       "54              Tempus        8.1    December-20             Health   \n",
       "198              Wefox        3.0        June-21                NaN   \n",
       "223        Sourcegraph        2.6        July-21                NaN   \n",
       "\n",
       "             Country  \n",
       "33             China  \n",
       "120    United States  \n",
       "54     United States  \n",
       "198          Germany  \n",
       "223    United States  "
      ]
     },
     "execution_count": 4,
     "metadata": {},
     "output_type": "execute_result"
    }
   ],
   "source": [
    "#forma del Dataset\n",
    "print(f\"El dataset tiene {df.shape[0]} filas y {df.shape[1]} columnas.\")\n",
    "print()\n",
    "      \n",
    "#informacion del Dataframe\n",
    "df.info()\n",
    "\n",
    "#visualizacion rapida random\n",
    "df.sample(5)\n"
   ]
  },
  {
   "cell_type": "code",
   "execution_count": 5,
   "id": "73657328",
   "metadata": {},
   "outputs": [
    {
     "data": {
      "text/html": [
       "<div>\n",
       "<style scoped>\n",
       "    .dataframe tbody tr th:only-of-type {\n",
       "        vertical-align: middle;\n",
       "    }\n",
       "\n",
       "    .dataframe tbody tr th {\n",
       "        vertical-align: top;\n",
       "    }\n",
       "\n",
       "    .dataframe thead th {\n",
       "        text-align: right;\n",
       "    }\n",
       "</style>\n",
       "<table border=\"1\" class=\"dataframe\">\n",
       "  <thead>\n",
       "    <tr style=\"text-align: right;\">\n",
       "      <th></th>\n",
       "      <th>Company</th>\n",
       "      <th>Valuation</th>\n",
       "      <th>Valuation_date</th>\n",
       "      <th>Industry</th>\n",
       "      <th>Country</th>\n",
       "    </tr>\n",
       "  </thead>\n",
       "  <tbody>\n",
       "    <tr>\n",
       "      <th>0</th>\n",
       "      <td>ByteDance</td>\n",
       "      <td>140.0</td>\n",
       "      <td>April-21</td>\n",
       "      <td>Internet</td>\n",
       "      <td>China</td>\n",
       "    </tr>\n",
       "    <tr>\n",
       "      <th>1</th>\n",
       "      <td>SpaceX</td>\n",
       "      <td>100.0</td>\n",
       "      <td>October-21</td>\n",
       "      <td>Aerospace</td>\n",
       "      <td>United States</td>\n",
       "    </tr>\n",
       "    <tr>\n",
       "      <th>2</th>\n",
       "      <td>Stripe</td>\n",
       "      <td>95.0</td>\n",
       "      <td>March-21</td>\n",
       "      <td>Financial services</td>\n",
       "      <td>United States /  Ireland</td>\n",
       "    </tr>\n",
       "    <tr>\n",
       "      <th>3</th>\n",
       "      <td>Klarna</td>\n",
       "      <td>45.6</td>\n",
       "      <td>June-21</td>\n",
       "      <td>Fintech</td>\n",
       "      <td>Sweden</td>\n",
       "    </tr>\n",
       "    <tr>\n",
       "      <th>4</th>\n",
       "      <td>Canva</td>\n",
       "      <td>40.0</td>\n",
       "      <td>September-21</td>\n",
       "      <td>Graphic design</td>\n",
       "      <td>Australia</td>\n",
       "    </tr>\n",
       "  </tbody>\n",
       "</table>\n",
       "</div>"
      ],
      "text/plain": [
       "     Company  Valuation Valuation_date            Industry  \\\n",
       "0  ByteDance      140.0       April-21            Internet   \n",
       "1     SpaceX      100.0     October-21           Aerospace   \n",
       "2     Stripe       95.0       March-21  Financial services   \n",
       "3     Klarna       45.6        June-21             Fintech   \n",
       "4      Canva       40.0   September-21      Graphic design   \n",
       "\n",
       "                     Country  \n",
       "0                      China  \n",
       "1              United States  \n",
       "2   United States /  Ireland  \n",
       "3                     Sweden  \n",
       "4                  Australia  "
      ]
     },
     "execution_count": 5,
     "metadata": {},
     "output_type": "execute_result"
    }
   ],
   "source": [
    "#visualizacion de los extremos del Dataframe\n",
    "df.head(5)"
   ]
  },
  {
   "cell_type": "code",
   "execution_count": 6,
   "id": "a68cd901",
   "metadata": {},
   "outputs": [
    {
     "data": {
      "text/html": [
       "<div>\n",
       "<style scoped>\n",
       "    .dataframe tbody tr th:only-of-type {\n",
       "        vertical-align: middle;\n",
       "    }\n",
       "\n",
       "    .dataframe tbody tr th {\n",
       "        vertical-align: top;\n",
       "    }\n",
       "\n",
       "    .dataframe thead th {\n",
       "        text-align: right;\n",
       "    }\n",
       "</style>\n",
       "<table border=\"1\" class=\"dataframe\">\n",
       "  <thead>\n",
       "    <tr style=\"text-align: right;\">\n",
       "      <th></th>\n",
       "      <th>Company</th>\n",
       "      <th>Valuation</th>\n",
       "      <th>Valuation_date</th>\n",
       "      <th>Industry</th>\n",
       "      <th>Country</th>\n",
       "    </tr>\n",
       "  </thead>\n",
       "  <tbody>\n",
       "    <tr>\n",
       "      <th>245</th>\n",
       "      <td>Bitso</td>\n",
       "      <td>2.20</td>\n",
       "      <td>May-21</td>\n",
       "      <td>Cryptocurrency</td>\n",
       "      <td>Mexico</td>\n",
       "    </tr>\n",
       "    <tr>\n",
       "      <th>246</th>\n",
       "      <td>Gympass</td>\n",
       "      <td>2.20</td>\n",
       "      <td>June-21</td>\n",
       "      <td>NaN</td>\n",
       "      <td>Brazil /   United States</td>\n",
       "    </tr>\n",
       "    <tr>\n",
       "      <th>247</th>\n",
       "      <td>Kurly</td>\n",
       "      <td>2.20</td>\n",
       "      <td>July-21</td>\n",
       "      <td>E-commerce</td>\n",
       "      <td>South Korea</td>\n",
       "    </tr>\n",
       "    <tr>\n",
       "      <th>248</th>\n",
       "      <td>Addepar</td>\n",
       "      <td>2.17</td>\n",
       "      <td>June-21</td>\n",
       "      <td>Fintech</td>\n",
       "      <td>United States</td>\n",
       "    </tr>\n",
       "    <tr>\n",
       "      <th>249</th>\n",
       "      <td>Eightfold.ai</td>\n",
       "      <td>2.10</td>\n",
       "      <td>June-21</td>\n",
       "      <td>Artificial intelligence</td>\n",
       "      <td>United States</td>\n",
       "    </tr>\n",
       "  </tbody>\n",
       "</table>\n",
       "</div>"
      ],
      "text/plain": [
       "          Company  Valuation Valuation_date                 Industry  \\\n",
       "245         Bitso       2.20         May-21           Cryptocurrency   \n",
       "246       Gympass       2.20        June-21                      NaN   \n",
       "247         Kurly       2.20        July-21               E-commerce   \n",
       "248       Addepar       2.17        June-21                  Fintech   \n",
       "249  Eightfold.ai       2.10        June-21  Artificial intelligence   \n",
       "\n",
       "                        Country  \n",
       "245                      Mexico  \n",
       "246    Brazil /   United States  \n",
       "247                 South Korea  \n",
       "248               United States  \n",
       "249               United States  "
      ]
     },
     "execution_count": 6,
     "metadata": {},
     "output_type": "execute_result"
    }
   ],
   "source": [
    "df.tail(5)"
   ]
  },
  {
   "cell_type": "code",
   "execution_count": 186,
   "id": "29df9083",
   "metadata": {
    "scrolled": false
   },
   "outputs": [],
   "source": [
    "#df.Valuation.unique()\n",
    "\n",
    "#hay algún error en los números? parece que hay espacios vacíos. Investigar las series A,B o C de las startups"
   ]
  },
  {
   "cell_type": "code",
   "execution_count": 148,
   "id": "465bc35e",
   "metadata": {},
   "outputs": [],
   "source": [
    "#df.Industry.unique()"
   ]
  },
  {
   "cell_type": "code",
   "execution_count": 9,
   "id": "b6ccc52b",
   "metadata": {},
   "outputs": [
    {
     "data": {
      "text/plain": [
       "Company           250\n",
       "Valuation         104\n",
       "Valuation_date     50\n",
       "Industry           81\n",
       "Country            53\n",
       "dtype: int64"
      ]
     },
     "execution_count": 9,
     "metadata": {},
     "output_type": "execute_result"
    }
   ],
   "source": [
    "df.nunique()"
   ]
  },
  {
   "cell_type": "markdown",
   "id": "b253ca3b",
   "metadata": {},
   "source": [
    "Para cerrar la seccion se pone una breve descripcion de lo que encontramos en los datos"
   ]
  },
  {
   "cell_type": "markdown",
   "id": "d797b01b",
   "metadata": {},
   "source": [
    "## 3. Limpieza de datos"
   ]
  },
  {
   "cell_type": "code",
   "execution_count": 10,
   "id": "22d2f664",
   "metadata": {},
   "outputs": [],
   "source": [
    "#hacer una copia del df\n",
    "\n",
    "clean_df = df.copy()"
   ]
  },
  {
   "cell_type": "markdown",
   "id": "dfad76bb",
   "metadata": {},
   "source": [
    "Desde aquí en adelante trabajaremos con la copia del dataframe"
   ]
  },
  {
   "cell_type": "code",
   "execution_count": 11,
   "id": "c839da60",
   "metadata": {},
   "outputs": [
    {
     "data": {
      "text/plain": [
       "Index(['Company', 'Valuation', 'Valuation_date', 'Industry_Field', 'Country'], dtype='object')"
      ]
     },
     "execution_count": 11,
     "metadata": {},
     "output_type": "execute_result"
    }
   ],
   "source": [
    "#renombramos la columna Industry\n",
    "\n",
    "clean_df= clean_df.rename(columns={\"Industry\":\"Industry_Field\"})\n",
    "\n",
    "clean_df\n",
    "\n",
    "clean_df.columns\n"
   ]
  },
  {
   "cell_type": "code",
   "execution_count": 12,
   "id": "70e3cedb",
   "metadata": {},
   "outputs": [],
   "source": [
    "#Renombramos la columna Valuation especificando que está valuado en Billones\n",
    "\n",
    "clean_df = clean_df.rename(columns={'Valuation' : 'Valuation_Billions'})\n",
    "\n",
    "#clean_df.columns"
   ]
  },
  {
   "cell_type": "code",
   "execution_count": 13,
   "id": "dd0558d5",
   "metadata": {},
   "outputs": [],
   "source": [
    "clean_df['Valuation_Billions'] = clean_df['Valuation_Billions']"
   ]
  },
  {
   "cell_type": "code",
   "execution_count": 14,
   "id": "5e90a833",
   "metadata": {},
   "outputs": [
    {
     "data": {
      "text/plain": [
       "array([140.  , 100.  ,  95.  ,  45.6 ,  40.  ,  39.  ,  38.  ,  33.  ,\n",
       "        30.  ,  28.7 ,  25.  ,  21.  ,  20.  ,  18.  ,  17.  ,  16.5 ,\n",
       "        15.5 ,  15.  ,  13.4 ,  13.  ,  12.4 ,  12.3 ,  12.  ,  11.75,\n",
       "        11.  ,  10.  ,   9.6 ,   9.5 ,   9.  ,   8.7 ,   8.6 ,   8.5 ,\n",
       "         8.3 ,   8.1 ,   8.  ,   7.75,   7.6 ,   7.56,   7.5 ,   7.4 ,\n",
       "         7.3 ,   7.25,   7.  ,   6.8 ,   6.6 ,   6.5 ,   6.3 ,   6.04,\n",
       "         6.  ,   5.77,   5.7 ,   5.6 ,   5.5 ,   5.4 ,   5.3 ,   5.25,\n",
       "         5.2 ,   5.1 ,   5.  ,   4.9 ,   4.75,   4.6 ,   4.5 ,   4.4 ,\n",
       "         4.3 ,   4.2 ,   4.15,   4.1 ,   4.05,   4.  ,   3.95,   3.8 ,\n",
       "         3.75,   3.7 ,   3.6 ,   3.55,   3.5 ,   3.35,   3.33,   3.3 ,\n",
       "         3.4 ,   3.2 ,   3.15,   3.1 ,   3.  ,   2.9 ,   2.85,   2.8 ,\n",
       "         2.78,   2.75,   2.7 ,   2.63,   2.6 ,   2.56,   2.5 ,   2.45,\n",
       "         2.4 ,   2.39,   2.33,   2.3 ,   2.25,   2.2 ,   2.17,   2.1 ])"
      ]
     },
     "execution_count": 14,
     "metadata": {},
     "output_type": "execute_result"
    }
   ],
   "source": [
    "clean_df.Valuation_Billions.unique()\n",
    "\n",
    "#como eliminar esos espacios vacios? con replace?"
   ]
  },
  {
   "cell_type": "code",
   "execution_count": 15,
   "id": "9633c7fa",
   "metadata": {},
   "outputs": [
    {
     "data": {
      "text/plain": [
       "Company                0\n",
       "Valuation_Billions     0\n",
       "Valuation_date         0\n",
       "Industry_Field        17\n",
       "Country                0\n",
       "dtype: int64"
      ]
     },
     "execution_count": 15,
     "metadata": {},
     "output_type": "execute_result"
    }
   ],
   "source": [
    "#verificamos si hay valores nulos \n",
    "\n",
    "clean_df.isnull().sum()\n"
   ]
  },
  {
   "cell_type": "code",
   "execution_count": 16,
   "id": "d3521031",
   "metadata": {},
   "outputs": [
    {
     "name": "stdout",
     "output_type": "stream",
     "text": [
      "Encontramos 17 valores NaN que deben ser reemplazados\n"
     ]
    }
   ],
   "source": [
    "print(f\"Encontramos {clean_df.isnull().Industry_Field.sum()} valores NaN que deben ser reemplazados\")\n"
   ]
  },
  {
   "cell_type": "code",
   "execution_count": 17,
   "id": "629d76ef",
   "metadata": {},
   "outputs": [],
   "source": [
    "#Cambiamos los valores NaN por \"Undetermined\" ya que hace referencia al tipo de industria\n",
    "\n",
    "clean_df['Industry_Field'] = clean_df.Industry_Field.fillna('Undetermined')"
   ]
  },
  {
   "cell_type": "code",
   "execution_count": 188,
   "id": "edcc3586",
   "metadata": {},
   "outputs": [],
   "source": [
    "#Eliminamos espacios en blanco en categoría Country\n",
    "\n",
    "clean_df['Country'] = clean_df['Country'].str.strip()\n",
    "\n",
    "#clean_df.Country.unique()"
   ]
  },
  {
   "cell_type": "code",
   "execution_count": 19,
   "id": "f3a67adb",
   "metadata": {},
   "outputs": [
    {
     "data": {
      "text/plain": [
       "Fintech                      24\n",
       "Software                     23\n",
       "Undetermined                 17\n",
       "E-commerce                   15\n",
       "Artificial intelligence      10\n",
       "                             ..\n",
       "Software industry             1\n",
       "Data analytics                1\n",
       "Human resource management     1\n",
       "Consumer electronics          1\n",
       "Collaborative software        1\n",
       "Name: Industry_Field, Length: 82, dtype: int64"
      ]
     },
     "execution_count": 19,
     "metadata": {},
     "output_type": "execute_result"
    }
   ],
   "source": [
    "clean_df.Industry_Field.value_counts()"
   ]
  },
  {
   "cell_type": "markdown",
   "id": "91cc1c0c",
   "metadata": {},
   "source": [
    "------------------"
   ]
  },
  {
   "cell_type": "markdown",
   "id": "a24b5efd",
   "metadata": {},
   "source": [
    "## 4. Presentación de los datos"
   ]
  },
  {
   "cell_type": "markdown",
   "id": "da769dd7",
   "metadata": {},
   "source": [
    "## ¿Qué país concentra la mayor cantidad de startups?"
   ]
  },
  {
   "cell_type": "code",
   "execution_count": 189,
   "id": "d22fdb84",
   "metadata": {},
   "outputs": [
    {
     "data": {
      "text/html": [
       "<div>\n",
       "<style scoped>\n",
       "    .dataframe tbody tr th:only-of-type {\n",
       "        vertical-align: middle;\n",
       "    }\n",
       "\n",
       "    .dataframe tbody tr th {\n",
       "        vertical-align: top;\n",
       "    }\n",
       "\n",
       "    .dataframe thead th {\n",
       "        text-align: right;\n",
       "    }\n",
       "</style>\n",
       "<table border=\"1\" class=\"dataframe\">\n",
       "  <thead>\n",
       "    <tr style=\"text-align: right;\">\n",
       "      <th></th>\n",
       "      <th>Country</th>\n",
       "    </tr>\n",
       "    <tr>\n",
       "      <th>Country</th>\n",
       "      <th></th>\n",
       "    </tr>\n",
       "  </thead>\n",
       "  <tbody>\n",
       "    <tr>\n",
       "      <th>United States</th>\n",
       "      <td>114</td>\n",
       "    </tr>\n",
       "    <tr>\n",
       "      <th>India</th>\n",
       "      <td>27</td>\n",
       "    </tr>\n",
       "    <tr>\n",
       "      <th>China</th>\n",
       "      <td>26</td>\n",
       "    </tr>\n",
       "    <tr>\n",
       "      <th>United Kingdom</th>\n",
       "      <td>11</td>\n",
       "    </tr>\n",
       "    <tr>\n",
       "      <th>Germany</th>\n",
       "      <td>6</td>\n",
       "    </tr>\n",
       "    <tr>\n",
       "      <th>Canada</th>\n",
       "      <td>6</td>\n",
       "    </tr>\n",
       "    <tr>\n",
       "      <th>South Korea</th>\n",
       "      <td>6</td>\n",
       "    </tr>\n",
       "    <tr>\n",
       "      <th>France</th>\n",
       "      <td>5</td>\n",
       "    </tr>\n",
       "    <tr>\n",
       "      <th>Israel /  United States</th>\n",
       "      <td>3</td>\n",
       "    </tr>\n",
       "    <tr>\n",
       "      <th>Israel</th>\n",
       "      <td>3</td>\n",
       "    </tr>\n",
       "  </tbody>\n",
       "</table>\n",
       "</div>"
      ],
      "text/plain": [
       "                         Country\n",
       "Country                         \n",
       "United States                114\n",
       "India                         27\n",
       "China                         26\n",
       "United Kingdom                11\n",
       "Germany                        6\n",
       "Canada                         6\n",
       "South Korea                    6\n",
       "France                         5\n",
       "Israel /  United States        3\n",
       "Israel                         3"
      ]
     },
     "execution_count": 189,
     "metadata": {},
     "output_type": "execute_result"
    }
   ],
   "source": [
    "#hacer esto en una función?\n",
    "\n",
    "industry_country = clean_df.groupby('Country')['Country'].count().sort_values(ascending = False).head(10)\n",
    "\n",
    "industry_country.to_frame()\n"
   ]
  },
  {
   "cell_type": "code",
   "execution_count": 196,
   "id": "82394fd1",
   "metadata": {
    "scrolled": true
   },
   "outputs": [
    {
     "data": {
      "image/png": "[encoded data removed]",
      "text/plain": [
       "<Figure size 720x720 with 1 Axes>"
      ]
     },
     "metadata": {
      "needs_background": "light"
     },
     "output_type": "display_data"
    }
   ],
   "source": [
    "industry_country.plot.bar(figsize=(10,10));\n",
    "\n",
    "plt.title('Cantidad de startups por país', fontdict = {'fontsize':20, 'fontweight':'bold'});\n",
    "plt.xlabel('Países');\n",
    "plt.ylabel('Cantidad');\n",
    "plt.xticks(rotation=70);"
   ]
  },
  {
   "cell_type": "code",
   "execution_count": 149,
   "id": "f5faf94c",
   "metadata": {
    "scrolled": true
   },
   "outputs": [],
   "source": [
    "#crear nuevo dataframe?\n",
    "\n",
    "country_valuation = clean_df.groupby(['Country', 'Industry_Field'])['Valuation_Billions'].sum().sort_values(ascending = False).head(10)\n",
    "\n",
    "valuation_df = country_valuation.to_frame()"
   ]
  },
  {
   "cell_type": "code",
   "execution_count": 195,
   "id": "22487de3",
   "metadata": {
    "scrolled": false
   },
   "outputs": [
    {
     "data": {
      "image/png": "[encoded data removed]",
      "text/plain": [
       "<Figure size 720x360 with 1 Axes>"
      ]
     },
     "metadata": {
      "needs_background": "light"
     },
     "output_type": "display_data"
    }
   ],
   "source": [
    "country_valuation_plot = country_valuation.plot.bar(figsize=(10,5));\n",
    "\n",
    "plt.title('Valuación total por país e industria', fontdict = {'fontsize':20, 'fontweight':'bold'});\n",
    "plt.xlabel('');\n",
    "plt.ylabel('');\n",
    "plt.xticks(rotation=70);"
   ]
  },
  {
   "cell_type": "markdown",
   "id": "dfc36693",
   "metadata": {},
   "source": [
    "# IDEA: HACER UN GRAFICO QUE REUNA LA VALUACION TOTAL MÁXIMA POR PAIS Y QUE MUESTRE A QUE INDUSTRIA PERTENECE. GRAFICO DE BARRAS ACUMULADO\n",
    "\n",
    "stacked bar chart\n",
    "\n",
    "hue - seaborn"
   ]
  },
  {
   "cell_type": "code",
   "execution_count": 128,
   "id": "7b80c1f7",
   "metadata": {},
   "outputs": [
    {
     "name": "stdout",
     "output_type": "stream",
     "text": [
      "La valuación total de las startups al año 2021 es: 1955.21 billones de USD\n"
     ]
    }
   ],
   "source": [
    "total_valuation =  clean_df['Valuation_Billions'].sum()\n",
    "\n",
    "print(f\"La valuación total de las startups al año 2021 es: {total_valuation} billones de USD\")"
   ]
  },
  {
   "cell_type": "code",
   "execution_count": 129,
   "id": "066a93fc",
   "metadata": {},
   "outputs": [
    {
     "name": "stdout",
     "output_type": "stream",
     "text": [
      "La valuación del top 10 startups  al año 2021 es: 590.6 billones de USD\n"
     ]
    }
   ],
   "source": [
    "top_valuation =  clean_df['Valuation_Billions'].head(10).sum()\n",
    "\n",
    "print(f\"La valuación del top 10 startups  al año 2021 es: {top_valuation} billones de USD\")"
   ]
  },
  {
   "cell_type": "code",
   "execution_count": 143,
   "id": "fda0a17e",
   "metadata": {
    "scrolled": true
   },
   "outputs": [],
   "source": [
    "clean_df['Valuation_Percentage'] = round((clean_df['Valuation_Billions']/top_valuation)*100,2)\n",
    "\n",
    "\n",
    "#clean_df.head(10)"
   ]
  },
  {
   "cell_type": "code",
   "execution_count": 144,
   "id": "65b2deec",
   "metadata": {},
   "outputs": [
    {
     "data": {
      "text/html": [
       "<div>\n",
       "<style scoped>\n",
       "    .dataframe tbody tr th:only-of-type {\n",
       "        vertical-align: middle;\n",
       "    }\n",
       "\n",
       "    .dataframe tbody tr th {\n",
       "        vertical-align: top;\n",
       "    }\n",
       "\n",
       "    .dataframe thead th {\n",
       "        text-align: right;\n",
       "    }\n",
       "</style>\n",
       "<table border=\"1\" class=\"dataframe\">\n",
       "  <thead>\n",
       "    <tr style=\"text-align: right;\">\n",
       "      <th></th>\n",
       "      <th></th>\n",
       "      <th></th>\n",
       "      <th>Valuation_Billions</th>\n",
       "    </tr>\n",
       "    <tr>\n",
       "      <th>Country</th>\n",
       "      <th>Industry_Field</th>\n",
       "      <th>Valuation_Percentage</th>\n",
       "      <th></th>\n",
       "    </tr>\n",
       "  </thead>\n",
       "  <tbody>\n",
       "    <tr>\n",
       "      <th>China</th>\n",
       "      <th>Internet</th>\n",
       "      <th>23.70</th>\n",
       "      <td>140.0</td>\n",
       "    </tr>\n",
       "    <tr>\n",
       "      <th>United States</th>\n",
       "      <th>Aerospace</th>\n",
       "      <th>16.93</th>\n",
       "      <td>100.0</td>\n",
       "    </tr>\n",
       "    <tr>\n",
       "      <th>United States /  Ireland</th>\n",
       "      <th>Financial services</th>\n",
       "      <th>16.09</th>\n",
       "      <td>95.0</td>\n",
       "    </tr>\n",
       "    <tr>\n",
       "      <th>Sweden</th>\n",
       "      <th>Fintech</th>\n",
       "      <th>7.72</th>\n",
       "      <td>45.6</td>\n",
       "    </tr>\n",
       "    <tr>\n",
       "      <th>Australia</th>\n",
       "      <th>Graphic design</th>\n",
       "      <th>6.77</th>\n",
       "      <td>40.0</td>\n",
       "    </tr>\n",
       "    <tr>\n",
       "      <th rowspan=\"2\" valign=\"top\">United States</th>\n",
       "      <th>Retail</th>\n",
       "      <th>6.60</th>\n",
       "      <td>39.0</td>\n",
       "    </tr>\n",
       "    <tr>\n",
       "      <th>Software</th>\n",
       "      <th>6.43</th>\n",
       "      <td>38.0</td>\n",
       "    </tr>\n",
       "    <tr>\n",
       "      <th>United Kingdom</th>\n",
       "      <th>Fintech</th>\n",
       "      <th>5.59</th>\n",
       "      <td>33.0</td>\n",
       "    </tr>\n",
       "    <tr>\n",
       "      <th>United Kingdom /  UAE</th>\n",
       "      <th>Internet</th>\n",
       "      <th>5.08</th>\n",
       "      <td>30.0</td>\n",
       "    </tr>\n",
       "    <tr>\n",
       "      <th>Brazil</th>\n",
       "      <th>Financial services</th>\n",
       "      <th>5.08</th>\n",
       "      <td>30.0</td>\n",
       "    </tr>\n",
       "  </tbody>\n",
       "</table>\n",
       "</div>"
      ],
      "text/plain": [
       "                                                                  Valuation_Billions\n",
       "Country                  Industry_Field     Valuation_Percentage                    \n",
       "China                    Internet           23.70                              140.0\n",
       "United States            Aerospace          16.93                              100.0\n",
       "United States /  Ireland Financial services 16.09                               95.0\n",
       "Sweden                   Fintech            7.72                                45.6\n",
       "Australia                Graphic design     6.77                                40.0\n",
       "United States            Retail             6.60                                39.0\n",
       "                         Software           6.43                                38.0\n",
       "United Kingdom           Fintech            5.59                                33.0\n",
       "United Kingdom /  UAE    Internet           5.08                                30.0\n",
       "Brazil                   Financial services 5.08                                30.0"
      ]
     },
     "execution_count": 144,
     "metadata": {},
     "output_type": "execute_result"
    }
   ],
   "source": [
    "total_percentage = clean_df.groupby(['Country','Industry_Field', 'Valuation_Percentage'])['Valuation_Billions'].sum().sort_values(ascending = False).head(10)\n",
    "\n",
    "total_percentage.to_frame()"
   ]
  },
  {
   "cell_type": "code",
   "execution_count": 190,
   "id": "cc4030f3",
   "metadata": {},
   "outputs": [
    {
     "data": {
      "image/png": "[encoded data removed]",
      "text/plain": [
       "<Figure size 720x720 with 1 Axes>"
      ]
     },
     "metadata": {},
     "output_type": "display_data"
    }
   ],
   "source": [
    "total_percentage_plot = total_percentage.plot.pie(x='Total_Valuation', y='Valuation_Percentage',figsize=(10,10), autopct='%.2f%%',  explode=[0.02, 0.02, 0.02,0.02, 0.02, 0.02,0.02, 0.02,0.02,0.02]);\n",
    "\n",
    "plt.title('Valuación porcentual por país', fontdict = {'fontsize':20, 'fontweight':'bold'});\n",
    "plt.xlabel('');\n",
    "plt.ylabel('');"
   ]
  },
  {
   "cell_type": "code",
   "execution_count": 146,
   "id": "f919cc53",
   "metadata": {},
   "outputs": [
    {
     "data": {
      "text/html": [
       "<div>\n",
       "<style scoped>\n",
       "    .dataframe tbody tr th:only-of-type {\n",
       "        vertical-align: middle;\n",
       "    }\n",
       "\n",
       "    .dataframe tbody tr th {\n",
       "        vertical-align: top;\n",
       "    }\n",
       "\n",
       "    .dataframe thead th {\n",
       "        text-align: right;\n",
       "    }\n",
       "</style>\n",
       "<table border=\"1\" class=\"dataframe\">\n",
       "  <thead>\n",
       "    <tr style=\"text-align: right;\">\n",
       "      <th></th>\n",
       "      <th>index</th>\n",
       "      <th>Industry_Field</th>\n",
       "    </tr>\n",
       "  </thead>\n",
       "  <tbody>\n",
       "    <tr>\n",
       "      <th>0</th>\n",
       "      <td>Fintech</td>\n",
       "      <td>24</td>\n",
       "    </tr>\n",
       "    <tr>\n",
       "      <th>1</th>\n",
       "      <td>Software</td>\n",
       "      <td>23</td>\n",
       "    </tr>\n",
       "    <tr>\n",
       "      <th>2</th>\n",
       "      <td>Undetermined</td>\n",
       "      <td>17</td>\n",
       "    </tr>\n",
       "    <tr>\n",
       "      <th>3</th>\n",
       "      <td>E-commerce</td>\n",
       "      <td>15</td>\n",
       "    </tr>\n",
       "    <tr>\n",
       "      <th>4</th>\n",
       "      <td>Artificial intelligence</td>\n",
       "      <td>10</td>\n",
       "    </tr>\n",
       "    <tr>\n",
       "      <th>5</th>\n",
       "      <td>Financial services</td>\n",
       "      <td>9</td>\n",
       "    </tr>\n",
       "    <tr>\n",
       "      <th>6</th>\n",
       "      <td>Cryptocurrency</td>\n",
       "      <td>9</td>\n",
       "    </tr>\n",
       "    <tr>\n",
       "      <th>7</th>\n",
       "      <td>Cybersecurity</td>\n",
       "      <td>8</td>\n",
       "    </tr>\n",
       "    <tr>\n",
       "      <th>8</th>\n",
       "      <td>Transportation</td>\n",
       "      <td>6</td>\n",
       "    </tr>\n",
       "    <tr>\n",
       "      <th>9</th>\n",
       "      <td>Marketplace</td>\n",
       "      <td>6</td>\n",
       "    </tr>\n",
       "  </tbody>\n",
       "</table>\n",
       "</div>"
      ],
      "text/plain": [
       "                     index  Industry_Field\n",
       "0                  Fintech              24\n",
       "1                 Software              23\n",
       "2             Undetermined              17\n",
       "3               E-commerce              15\n",
       "4  Artificial intelligence              10\n",
       "5       Financial services               9\n",
       "6           Cryptocurrency               9\n",
       "7            Cybersecurity               8\n",
       "8           Transportation               6\n",
       "9              Marketplace               6"
      ]
     },
     "execution_count": 146,
     "metadata": {},
     "output_type": "execute_result"
    }
   ],
   "source": [
    "industry_type = clean_df.Industry_Field.value_counts().head(10)\n",
    "\n",
    "new_df = industry_type.to_frame().reset_index()\n",
    "\n",
    "new_df"
   ]
  },
  {
   "cell_type": "code",
   "execution_count": 194,
   "id": "3a79f7db",
   "metadata": {},
   "outputs": [
    {
     "data": {
      "image/png": "[encoded data removed]",
      "text/plain": [
       "<Figure size 432x288 with 1 Axes>"
      ]
     },
     "metadata": {
      "needs_background": "light"
     },
     "output_type": "display_data"
    }
   ],
   "source": [
    "new_df.plot(kind='scatter', x='Industry_Field', y ='index', c = 'purple', alpha = 1);\n",
    "\n",
    "plt.title('Gráfico de dispersión: Startup por tipo de industria', fontdict = {'fontsize':20, 'fontweight':'bold'});\n",
    "plt.xlabel('Cantidad');\n",
    "plt.ylabel('Industria');\n",
    "\n",
    "#Usar scale para mostrar puntos más grandes en tipo de startup? cloud map? Bubble chart. \n",
    "# https://datavizpyr.com/how-to-make-bubble-plot-with-seaborn-scatterplot-in-python/"
   ]
  },
  {
   "cell_type": "code",
   "execution_count": 2,
   "id": "7b39370e",
   "metadata": {},
   "outputs": [],
   "source": [
    "#conclusion: lo que encontramos"
   ]
  },
  {
   "cell_type": "code",
   "execution_count": null,
   "id": "b1deb126",
   "metadata": {},
   "outputs": [],
   "source": []
  },
  {
   "cell_type": "code",
   "execution_count": null,
   "id": "6de09f84",
   "metadata": {},
   "outputs": [],
   "source": []
  },
  {
   "cell_type": "markdown",
   "id": "201d8dc8",
   "metadata": {},
   "source": [
    "## 5. Conclusiones"
   ]
  },
  {
   "cell_type": "code",
   "execution_count": 3,
   "id": "968c552f",
   "metadata": {},
   "outputs": [],
   "source": [
    "#Lo que encontramos, lo que llamó la atencion, como se podria seguir el análisis"
   ]
  },
  {
   "cell_type": "code",
   "execution_count": null,
   "id": "e5c1b6ce",
   "metadata": {},
   "outputs": [],
   "source": []
  },
  {
   "cell_type": "markdown",
   "id": "d8b53e5d",
   "metadata": {},
   "source": [
    "## 6. Referencias"
   ]
  },
  {
   "cell_type": "code",
   "execution_count": null,
   "id": "92eec461",
   "metadata": {},
   "outputs": [],
   "source": []
  }
 ],
 "metadata": {
  "kernelspec": {
   "display_name": "Python 3",
   "language": "python",
   "name": "python3"
  },
  "language_info": {
   "codemirror_mode": {
    "name": "ipython",
    "version": 3
   },
   "file_extension": ".py",
   "mimetype": "text/x-python",
   "name": "python",
   "nbconvert_exporter": "python",
   "pygments_lexer": "ipython3",
   "version": "3.8.8"
  }
 },
 "nbformat": 4,
 "nbformat_minor": 5
}
