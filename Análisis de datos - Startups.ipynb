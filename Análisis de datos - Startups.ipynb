{
 "cells": [
  {
   "cell_type": "markdown",
   "id": "a6d61b4e",
   "metadata": {},
   "source": [
    "# Título\n",
    "etc\n",
    "etc\n",
    "\n",
    "\n",
    "etc"
   ]
  },
  {
   "cell_type": "markdown",
   "id": "f4df40f4",
   "metadata": {},
   "source": [
    "## 1. Carga de datos"
   ]
  },
  {
   "cell_type": "code",
   "execution_count": 1,
   "id": "287a040c",
   "metadata": {},
   "outputs": [],
   "source": [
    "#importar librerias\n",
    "#importar datos y cargarlos en dataframe"
   ]
  },
  {
   "cell_type": "markdown",
   "id": "1e3a335a",
   "metadata": {},
   "source": [
    "## 2. Exploración"
   ]
  },
  {
   "cell_type": "code",
   "execution_count": null,
   "id": "4d624bff",
   "metadata": {},
   "outputs": [],
   "source": [
    "#df.info()\n",
    "#df.head()"
   ]
  },
  {
   "cell_type": "markdown",
   "id": "075d668c",
   "metadata": {},
   "source": [
    "Para cerrar la seccion se pone una breve descripcion de lo que encontramos en los datos"
   ]
  },
  {
   "cell_type": "markdown",
   "id": "a05d7250",
   "metadata": {},
   "source": [
    "## 3. Limpieza de datos"
   ]
  },
  {
   "cell_type": "code",
   "execution_count": 5,
   "id": "730fa9fe",
   "metadata": {},
   "outputs": [],
   "source": [
    "#hacer una copia del df\n",
    "\n",
    "#df.copy()"
   ]
  },
  {
   "cell_type": "markdown",
   "id": "f08c07aa",
   "metadata": {},
   "source": [
    "## 4. Presentación de los datos\n"
   ]
  },
  {
   "cell_type": "code",
   "execution_count": null,
   "id": "8b65721e",
   "metadata": {},
   "outputs": [],
   "source": []
  },
  {
   "cell_type": "code",
   "execution_count": null,
   "id": "eade2746",
   "metadata": {},
   "outputs": [],
   "source": []
  },
  {
   "cell_type": "code",
   "execution_count": 2,
   "id": "d7e0059d",
   "metadata": {},
   "outputs": [],
   "source": [
    "#conclusion: lo que encontramos"
   ]
  },
  {
   "cell_type": "code",
   "execution_count": null,
   "id": "24dce75d",
   "metadata": {},
   "outputs": [],
   "source": []
  },
  {
   "cell_type": "code",
   "execution_count": null,
   "id": "1325a52d",
   "metadata": {},
   "outputs": [],
   "source": []
  },
  {
   "cell_type": "markdown",
   "id": "e8103eef",
   "metadata": {},
   "source": [
    "## 5. Conclusiones"
   ]
  },
  {
   "cell_type": "code",
   "execution_count": 3,
   "id": "da946eb3",
   "metadata": {},
   "outputs": [],
   "source": [
    "#Lo que encontramos, lo que llamó la atencion, como se podria seguir el análisis"
   ]
  },
  {
   "cell_type": "code",
   "execution_count": null,
   "id": "c0539687",
   "metadata": {},
   "outputs": [],
   "source": []
  },
  {
   "cell_type": "markdown",
   "id": "577b0292",
   "metadata": {},
   "source": [
    "## 6. Referencias"
   ]
  },
  {
   "cell_type": "code",
   "execution_count": null,
   "id": "a179b58d",
   "metadata": {},
   "outputs": [],
   "source": []
  }
 ],
 "metadata": {
  "kernelspec": {
   "display_name": "Python 3",
   "language": "python",
   "name": "python3"
  },
  "language_info": {
   "codemirror_mode": {
    "name": "ipython",
    "version": 3
   },
   "file_extension": ".py",
   "mimetype": "text/x-python",
   "name": "python",
   "nbconvert_exporter": "python",
   "pygments_lexer": "ipython3",
   "version": "3.8.8"
  }
 },
 "nbformat": 4,
 "nbformat_minor": 5
}
