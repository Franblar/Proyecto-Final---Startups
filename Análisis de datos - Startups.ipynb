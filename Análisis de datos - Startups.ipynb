{
 "cells": [
  {
   "cell_type": "markdown",
   "id": "593c13f8",
   "metadata": {},
   "source": [
    "# **Estudio de Startups en el mundo según su valuación**\n",
    "\n",
    "#### por Franco Luis Blardone\n",
    "\n",
    "Este repositorio contiene un análisis de datos de distintas Startups en el mundo, centrando su análisis en país de origen, valuación e industria a la cual pertenecen. Los datos obtenidos corresponden al año 2021.\n",
    "\n",
    "Nos centraremos en aquellas startups denominadas **\"Unicornios\"** que son aquellas que alcanzan una valuación de $ 1 Billón de U$D sin ser listadas en los mercados de acciones.\n",
    "\n",
    "## Objetivos\n",
    "\n",
    "El objetivo es estudiar las relaciones entre el surgimiento de estas compañías y responder los siguientes interrogantes:\n",
    "- Qué industria tiene mayor cantidad de startups\n",
    "- Qué país concentra la mayor cantidad de startups\n",
    "- Qué valuación total significan estas startups\n",
    "- Cantidad de estas compañías que tiene el potencial de sobrevivir en el mercado.\n",
    "\n",
    "## Tabla de contenidos\n",
    "\n",
    "1. Carga de datos\n",
    "2. Exploración\n",
    "3. Limpieza de datos\n",
    "4. Presentación de los datos\n",
    "5. Conclusiones\n",
    "6. Referencias\n"
   ]
  },
  {
   "cell_type": "markdown",
   "id": "e50b8403",
   "metadata": {},
   "source": [
    "## 1. Carga de datos"
   ]
  },
  {
   "cell_type": "code",
   "execution_count": 2,
   "id": "b8f17376",
   "metadata": {},
   "outputs": [],
   "source": [
    "#importamos librerias\n",
    "\n",
    "import pandas as pd\n",
    "\n",
    "import numpy as np \n",
    "\n",
    "import matplotlib.pyplot as plt\n",
    "\n",
    "#habilitamos matplotlib\n",
    "\n",
    "%matplotlib inline\n",
    "\n",
    "from matplotlib import style\n"
   ]
  },
  {
   "cell_type": "code",
   "execution_count": 3,
   "id": "2a8e8b13",
   "metadata": {},
   "outputs": [
    {
     "name": "stdout",
     "output_type": "stream",
     "text": [
      "El Dataset se encuentra en el destino C:\\Users\\Lenovo\\Documents\\GitHub\\Proyecto-Final---Startups\\data\\Startups.csv\n"
     ]
    }
   ],
   "source": [
    "#definimos el path al Dataset e importamos los datos al Dataframe\n",
    "\n",
    "from os import path\n",
    "\n",
    "archivo = \"data\\Startups.csv\"\n",
    "\n",
    "print(f\"El Dataset se encuentra en el destino {path.abspath(archivo)}\")\n",
    "\n",
    "path = \"data\\Startups.csv\"\n",
    "\n",
    "df = pd.read_csv(path)\n"
   ]
  },
  {
   "cell_type": "markdown",
   "id": "132ecf7a",
   "metadata": {},
   "source": [
    "## 2. Exploración"
   ]
  },
  {
   "cell_type": "code",
   "execution_count": 16,
   "id": "d2308255",
   "metadata": {},
   "outputs": [
    {
     "name": "stdout",
     "output_type": "stream",
     "text": [
      "El dataset tiene 250 filas y 5 columnas.\n",
      "\n",
      "<class 'pandas.core.frame.DataFrame'>\n",
      "RangeIndex: 250 entries, 0 to 249\n",
      "Data columns (total 5 columns):\n",
      " #   Column          Non-Null Count  Dtype  \n",
      "---  ------          --------------  -----  \n",
      " 0   Company         250 non-null    object \n",
      " 1   Valuation       250 non-null    float64\n",
      " 2   Valuation_date  250 non-null    object \n",
      " 3   Industry        233 non-null    object \n",
      " 4   Country         250 non-null    object \n",
      "dtypes: float64(1), object(4)\n",
      "memory usage: 9.9+ KB\n"
     ]
    },
    {
     "data": {
      "text/html": [
       "<div>\n",
       "<style scoped>\n",
       "    .dataframe tbody tr th:only-of-type {\n",
       "        vertical-align: middle;\n",
       "    }\n",
       "\n",
       "    .dataframe tbody tr th {\n",
       "        vertical-align: top;\n",
       "    }\n",
       "\n",
       "    .dataframe thead th {\n",
       "        text-align: right;\n",
       "    }\n",
       "</style>\n",
       "<table border=\"1\" class=\"dataframe\">\n",
       "  <thead>\n",
       "    <tr style=\"text-align: right;\">\n",
       "      <th></th>\n",
       "      <th>Company</th>\n",
       "      <th>Valuation</th>\n",
       "      <th>Valuation_date</th>\n",
       "      <th>Industry</th>\n",
       "      <th>Country</th>\n",
       "    </tr>\n",
       "  </thead>\n",
       "  <tbody>\n",
       "    <tr>\n",
       "      <th>60</th>\n",
       "      <td>Netskope</td>\n",
       "      <td>7.5</td>\n",
       "      <td>July-21</td>\n",
       "      <td>Computer security</td>\n",
       "      <td>United States</td>\n",
       "    </tr>\n",
       "    <tr>\n",
       "      <th>109</th>\n",
       "      <td>Checkr</td>\n",
       "      <td>4.6</td>\n",
       "      <td>August-21</td>\n",
       "      <td>NaN</td>\n",
       "      <td>United States</td>\n",
       "    </tr>\n",
       "    <tr>\n",
       "      <th>204</th>\n",
       "      <td>Contentsquare</td>\n",
       "      <td>2.8</td>\n",
       "      <td>May-21</td>\n",
       "      <td>Software as a service</td>\n",
       "      <td>France</td>\n",
       "    </tr>\n",
       "    <tr>\n",
       "      <th>221</th>\n",
       "      <td>ManoMano</td>\n",
       "      <td>2.6</td>\n",
       "      <td>July-21</td>\n",
       "      <td>E-commerce</td>\n",
       "      <td>France</td>\n",
       "    </tr>\n",
       "    <tr>\n",
       "      <th>190</th>\n",
       "      <td>Seismic</td>\n",
       "      <td>3.0</td>\n",
       "      <td>August-21</td>\n",
       "      <td>Software</td>\n",
       "      <td>United States</td>\n",
       "    </tr>\n",
       "  </tbody>\n",
       "</table>\n",
       "</div>"
      ],
      "text/plain": [
       "           Company  Valuation Valuation_date               Industry  \\\n",
       "60        Netskope        7.5        July-21      Computer security   \n",
       "109         Checkr        4.6      August-21                    NaN   \n",
       "204  Contentsquare        2.8         May-21  Software as a service   \n",
       "221       ManoMano        2.6        July-21             E-commerce   \n",
       "190        Seismic        3.0      August-21               Software   \n",
       "\n",
       "             Country  \n",
       "60     United States  \n",
       "109    United States  \n",
       "204           France  \n",
       "221           France  \n",
       "190    United States  "
      ]
     },
     "execution_count": 16,
     "metadata": {},
     "output_type": "execute_result"
    }
   ],
   "source": [
    "#forma del Dataset\n",
    "print(f\"El dataset tiene {df.shape[0]} filas y {df.shape[1]} columnas.\")\n",
    "print()\n",
    "      \n",
    "#informacion del Dataframe\n",
    "df.info()\n",
    "\n",
    "#visualizacion rapida random\n",
    "df.sample(5)\n"
   ]
  },
  {
   "cell_type": "code",
   "execution_count": 15,
   "id": "73657328",
   "metadata": {},
   "outputs": [
    {
     "data": {
      "text/html": [
       "<div>\n",
       "<style scoped>\n",
       "    .dataframe tbody tr th:only-of-type {\n",
       "        vertical-align: middle;\n",
       "    }\n",
       "\n",
       "    .dataframe tbody tr th {\n",
       "        vertical-align: top;\n",
       "    }\n",
       "\n",
       "    .dataframe thead th {\n",
       "        text-align: right;\n",
       "    }\n",
       "</style>\n",
       "<table border=\"1\" class=\"dataframe\">\n",
       "  <thead>\n",
       "    <tr style=\"text-align: right;\">\n",
       "      <th></th>\n",
       "      <th>Company</th>\n",
       "      <th>Valuation</th>\n",
       "      <th>Valuation_date</th>\n",
       "      <th>Industry</th>\n",
       "      <th>Country</th>\n",
       "    </tr>\n",
       "  </thead>\n",
       "  <tbody>\n",
       "    <tr>\n",
       "      <th>0</th>\n",
       "      <td>ByteDance</td>\n",
       "      <td>140.0</td>\n",
       "      <td>April-21</td>\n",
       "      <td>Internet</td>\n",
       "      <td>China</td>\n",
       "    </tr>\n",
       "    <tr>\n",
       "      <th>1</th>\n",
       "      <td>SpaceX</td>\n",
       "      <td>100.0</td>\n",
       "      <td>October-21</td>\n",
       "      <td>Aerospace</td>\n",
       "      <td>United States</td>\n",
       "    </tr>\n",
       "    <tr>\n",
       "      <th>2</th>\n",
       "      <td>Stripe</td>\n",
       "      <td>95.0</td>\n",
       "      <td>March-21</td>\n",
       "      <td>Financial services</td>\n",
       "      <td>United States /  Ireland</td>\n",
       "    </tr>\n",
       "    <tr>\n",
       "      <th>3</th>\n",
       "      <td>Klarna</td>\n",
       "      <td>45.6</td>\n",
       "      <td>June-21</td>\n",
       "      <td>Fintech</td>\n",
       "      <td>Sweden</td>\n",
       "    </tr>\n",
       "    <tr>\n",
       "      <th>4</th>\n",
       "      <td>Canva</td>\n",
       "      <td>40.0</td>\n",
       "      <td>September-21</td>\n",
       "      <td>Graphic design</td>\n",
       "      <td>Australia</td>\n",
       "    </tr>\n",
       "  </tbody>\n",
       "</table>\n",
       "</div>"
      ],
      "text/plain": [
       "     Company  Valuation Valuation_date            Industry  \\\n",
       "0  ByteDance      140.0       April-21            Internet   \n",
       "1     SpaceX      100.0     October-21           Aerospace   \n",
       "2     Stripe       95.0       March-21  Financial services   \n",
       "3     Klarna       45.6        June-21             Fintech   \n",
       "4      Canva       40.0   September-21      Graphic design   \n",
       "\n",
       "                     Country  \n",
       "0                      China  \n",
       "1              United States  \n",
       "2   United States /  Ireland  \n",
       "3                     Sweden  \n",
       "4                  Australia  "
      ]
     },
     "execution_count": 15,
     "metadata": {},
     "output_type": "execute_result"
    }
   ],
   "source": [
    "#visualizacion de los extremos del Dataframe\n",
    "df.head(5)"
   ]
  },
  {
   "cell_type": "code",
   "execution_count": 14,
   "id": "a68cd901",
   "metadata": {},
   "outputs": [
    {
     "data": {
      "text/html": [
       "<div>\n",
       "<style scoped>\n",
       "    .dataframe tbody tr th:only-of-type {\n",
       "        vertical-align: middle;\n",
       "    }\n",
       "\n",
       "    .dataframe tbody tr th {\n",
       "        vertical-align: top;\n",
       "    }\n",
       "\n",
       "    .dataframe thead th {\n",
       "        text-align: right;\n",
       "    }\n",
       "</style>\n",
       "<table border=\"1\" class=\"dataframe\">\n",
       "  <thead>\n",
       "    <tr style=\"text-align: right;\">\n",
       "      <th></th>\n",
       "      <th>Company</th>\n",
       "      <th>Valuation</th>\n",
       "      <th>Valuation_date</th>\n",
       "      <th>Industry</th>\n",
       "      <th>Country</th>\n",
       "    </tr>\n",
       "  </thead>\n",
       "  <tbody>\n",
       "    <tr>\n",
       "      <th>245</th>\n",
       "      <td>Bitso</td>\n",
       "      <td>2.20</td>\n",
       "      <td>May-21</td>\n",
       "      <td>Cryptocurrency</td>\n",
       "      <td>Mexico</td>\n",
       "    </tr>\n",
       "    <tr>\n",
       "      <th>246</th>\n",
       "      <td>Gympass</td>\n",
       "      <td>2.20</td>\n",
       "      <td>June-21</td>\n",
       "      <td>NaN</td>\n",
       "      <td>Brazil /   United States</td>\n",
       "    </tr>\n",
       "    <tr>\n",
       "      <th>247</th>\n",
       "      <td>Kurly</td>\n",
       "      <td>2.20</td>\n",
       "      <td>July-21</td>\n",
       "      <td>E-commerce</td>\n",
       "      <td>South Korea</td>\n",
       "    </tr>\n",
       "    <tr>\n",
       "      <th>248</th>\n",
       "      <td>Addepar</td>\n",
       "      <td>2.17</td>\n",
       "      <td>June-21</td>\n",
       "      <td>Fintech</td>\n",
       "      <td>United States</td>\n",
       "    </tr>\n",
       "    <tr>\n",
       "      <th>249</th>\n",
       "      <td>Eightfold.ai</td>\n",
       "      <td>2.10</td>\n",
       "      <td>June-21</td>\n",
       "      <td>Artificial intelligence</td>\n",
       "      <td>United States</td>\n",
       "    </tr>\n",
       "  </tbody>\n",
       "</table>\n",
       "</div>"
      ],
      "text/plain": [
       "          Company  Valuation Valuation_date                 Industry  \\\n",
       "245         Bitso       2.20         May-21           Cryptocurrency   \n",
       "246       Gympass       2.20        June-21                      NaN   \n",
       "247         Kurly       2.20        July-21               E-commerce   \n",
       "248       Addepar       2.17        June-21                  Fintech   \n",
       "249  Eightfold.ai       2.10        June-21  Artificial intelligence   \n",
       "\n",
       "                        Country  \n",
       "245                      Mexico  \n",
       "246    Brazil /   United States  \n",
       "247                 South Korea  \n",
       "248               United States  \n",
       "249               United States  "
      ]
     },
     "execution_count": 14,
     "metadata": {},
     "output_type": "execute_result"
    }
   ],
   "source": [
    "df.tail(5)"
   ]
  },
  {
   "cell_type": "markdown",
   "id": "b253ca3b",
   "metadata": {},
   "source": [
    "Para cerrar la seccion se pone una breve descripcion de lo que encontramos en los datos"
   ]
  },
  {
   "cell_type": "markdown",
   "id": "d797b01b",
   "metadata": {},
   "source": [
    "## 3. Limpieza de datos"
   ]
  },
  {
   "cell_type": "code",
   "execution_count": 5,
   "id": "22d2f664",
   "metadata": {},
   "outputs": [],
   "source": [
    "#hacer una copia del df\n",
    "\n",
    "#df.copy()"
   ]
  },
  {
   "cell_type": "markdown",
   "id": "a24b5efd",
   "metadata": {},
   "source": [
    "## 4. Presentación de los datos\n"
   ]
  },
  {
   "cell_type": "code",
   "execution_count": null,
   "id": "d22fdb84",
   "metadata": {},
   "outputs": [],
   "source": []
  },
  {
   "cell_type": "code",
   "execution_count": null,
   "id": "82394fd1",
   "metadata": {},
   "outputs": [],
   "source": []
  },
  {
   "cell_type": "code",
   "execution_count": 2,
   "id": "7b39370e",
   "metadata": {},
   "outputs": [],
   "source": [
    "#conclusion: lo que encontramos"
   ]
  },
  {
   "cell_type": "code",
   "execution_count": null,
   "id": "b1deb126",
   "metadata": {},
   "outputs": [],
   "source": []
  },
  {
   "cell_type": "code",
   "execution_count": null,
   "id": "6de09f84",
   "metadata": {},
   "outputs": [],
   "source": []
  },
  {
   "cell_type": "markdown",
   "id": "201d8dc8",
   "metadata": {},
   "source": [
    "## 5. Conclusiones"
   ]
  },
  {
   "cell_type": "code",
   "execution_count": 3,
   "id": "968c552f",
   "metadata": {},
   "outputs": [],
   "source": [
    "#Lo que encontramos, lo que llamó la atencion, como se podria seguir el análisis"
   ]
  },
  {
   "cell_type": "code",
   "execution_count": null,
   "id": "e5c1b6ce",
   "metadata": {},
   "outputs": [],
   "source": []
  },
  {
   "cell_type": "markdown",
   "id": "d8b53e5d",
   "metadata": {},
   "source": [
    "## 6. Referencias"
   ]
  },
  {
   "cell_type": "code",
   "execution_count": null,
   "id": "92eec461",
   "metadata": {},
   "outputs": [],
   "source": []
  }
 ],
 "metadata": {
  "kernelspec": {
   "display_name": "Python 3",
   "language": "python",
   "name": "python3"
  },
  "language_info": {
   "codemirror_mode": {
    "name": "ipython",
    "version": 3
   },
   "file_extension": ".py",
   "mimetype": "text/x-python",
   "name": "python",
   "nbconvert_exporter": "python",
   "pygments_lexer": "ipython3",
   "version": "3.8.8"
  }
 },
 "nbformat": 4,
 "nbformat_minor": 5
}
